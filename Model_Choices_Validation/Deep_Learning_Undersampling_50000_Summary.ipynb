{
 "cells": [
  {
   "cell_type": "code",
   "execution_count": 1,
   "id": "c99d8865",
   "metadata": {},
   "outputs": [],
   "source": [
    "# Import libraries\n",
    "\n",
    "# Pandas\n",
    "import pandas as pd\n",
    "from collections import Counter\n",
    "\n",
    "import matplotlib.pyplot as plt\n",
    "import numpy as np\n",
    "\n",
    "\n",
    "from sklearn.model_selection import train_test_split\n",
    "from sklearn.preprocessing import StandardScaler,OneHotEncoder\n",
    "from sklearn.metrics import confusion_matrix\n",
    "\n",
    "\n",
    "from sklearn.linear_model import LogisticRegression\n",
    "\n",
    "from sklearn.metrics import balanced_accuracy_score\n",
    "from sklearn.metrics import accuracy_score\n",
    "from imblearn.metrics import classification_report_imbalanced\n",
    "from sklearn.metrics import classification_report\n",
    "from imblearn.ensemble import EasyEnsembleClassifier\n",
    "from sklearn.tree import DecisionTreeClassifier\n",
    "from sklearn.ensemble import GradientBoostingClassifier\n",
    "from sklearn.ensemble import RandomForestClassifier\n",
    "from sklearn.metrics import precision_recall_curve\n",
    "from sklearn.metrics import plot_precision_recall_curve\n",
    "from sklearn.metrics import precision_score\n",
    "from sklearn.metrics import recall_score\n",
    "\n",
    "from sklearn.svm import SVC\n",
    "import sklearn as skl\n",
    "import tensorflow as tf"
   ]
  },
  {
   "cell_type": "code",
   "execution_count": 2,
   "id": "172f0c56",
   "metadata": {},
   "outputs": [],
   "source": [
    "file = '../clean_ml_data_0625.csv'\n",
    "clean_df = pd.read_csv(file)"
   ]
  },
  {
   "cell_type": "code",
   "execution_count": 3,
   "id": "41051e20",
   "metadata": {},
   "outputs": [],
   "source": [
    "clean_df = clean_df.sample(50000)"
   ]
  },
  {
   "cell_type": "code",
   "execution_count": 4,
   "id": "66b15327",
   "metadata": {
    "scrolled": true
   },
   "outputs": [
    {
     "data": {
      "text/html": [
       "<div>\n",
       "<style scoped>\n",
       "    .dataframe tbody tr th:only-of-type {\n",
       "        vertical-align: middle;\n",
       "    }\n",
       "\n",
       "    .dataframe tbody tr th {\n",
       "        vertical-align: top;\n",
       "    }\n",
       "\n",
       "    .dataframe thead th {\n",
       "        text-align: right;\n",
       "    }\n",
       "</style>\n",
       "<table border=\"1\" class=\"dataframe\">\n",
       "  <thead>\n",
       "    <tr style=\"text-align: right;\">\n",
       "      <th></th>\n",
       "      <th>gender</th>\n",
       "      <th>pneumonia</th>\n",
       "      <th>pregnant</th>\n",
       "      <th>diabetes</th>\n",
       "      <th>copd</th>\n",
       "      <th>asthma</th>\n",
       "      <th>immunosup</th>\n",
       "      <th>hypertension</th>\n",
       "      <th>cardiovascular</th>\n",
       "      <th>obesity</th>\n",
       "      <th>renal_chronic</th>\n",
       "      <th>tobacco</th>\n",
       "      <th>closed_contact</th>\n",
       "      <th>another_complication</th>\n",
       "      <th>death</th>\n",
       "      <th>intubation</th>\n",
       "      <th>ICU</th>\n",
       "      <th>new_age</th>\n",
       "    </tr>\n",
       "  </thead>\n",
       "  <tbody>\n",
       "    <tr>\n",
       "      <th>185981</th>\n",
       "      <td>0</td>\n",
       "      <td>0</td>\n",
       "      <td>0</td>\n",
       "      <td>0</td>\n",
       "      <td>0</td>\n",
       "      <td>0</td>\n",
       "      <td>1</td>\n",
       "      <td>0</td>\n",
       "      <td>0</td>\n",
       "      <td>1</td>\n",
       "      <td>0</td>\n",
       "      <td>0</td>\n",
       "      <td>0</td>\n",
       "      <td>1</td>\n",
       "      <td>0</td>\n",
       "      <td>0</td>\n",
       "      <td>0</td>\n",
       "      <td>3</td>\n",
       "    </tr>\n",
       "    <tr>\n",
       "      <th>759590</th>\n",
       "      <td>1</td>\n",
       "      <td>0</td>\n",
       "      <td>0</td>\n",
       "      <td>0</td>\n",
       "      <td>0</td>\n",
       "      <td>0</td>\n",
       "      <td>0</td>\n",
       "      <td>0</td>\n",
       "      <td>0</td>\n",
       "      <td>0</td>\n",
       "      <td>0</td>\n",
       "      <td>0</td>\n",
       "      <td>0</td>\n",
       "      <td>0</td>\n",
       "      <td>0</td>\n",
       "      <td>0</td>\n",
       "      <td>0</td>\n",
       "      <td>3</td>\n",
       "    </tr>\n",
       "    <tr>\n",
       "      <th>1172666</th>\n",
       "      <td>1</td>\n",
       "      <td>0</td>\n",
       "      <td>0</td>\n",
       "      <td>0</td>\n",
       "      <td>0</td>\n",
       "      <td>0</td>\n",
       "      <td>0</td>\n",
       "      <td>0</td>\n",
       "      <td>0</td>\n",
       "      <td>0</td>\n",
       "      <td>0</td>\n",
       "      <td>0</td>\n",
       "      <td>0</td>\n",
       "      <td>0</td>\n",
       "      <td>0</td>\n",
       "      <td>0</td>\n",
       "      <td>0</td>\n",
       "      <td>3</td>\n",
       "    </tr>\n",
       "    <tr>\n",
       "      <th>1379552</th>\n",
       "      <td>0</td>\n",
       "      <td>0</td>\n",
       "      <td>0</td>\n",
       "      <td>0</td>\n",
       "      <td>0</td>\n",
       "      <td>0</td>\n",
       "      <td>0</td>\n",
       "      <td>0</td>\n",
       "      <td>0</td>\n",
       "      <td>1</td>\n",
       "      <td>0</td>\n",
       "      <td>1</td>\n",
       "      <td>1</td>\n",
       "      <td>0</td>\n",
       "      <td>0</td>\n",
       "      <td>0</td>\n",
       "      <td>0</td>\n",
       "      <td>4</td>\n",
       "    </tr>\n",
       "    <tr>\n",
       "      <th>1310747</th>\n",
       "      <td>0</td>\n",
       "      <td>0</td>\n",
       "      <td>0</td>\n",
       "      <td>0</td>\n",
       "      <td>0</td>\n",
       "      <td>0</td>\n",
       "      <td>0</td>\n",
       "      <td>0</td>\n",
       "      <td>0</td>\n",
       "      <td>0</td>\n",
       "      <td>0</td>\n",
       "      <td>0</td>\n",
       "      <td>1</td>\n",
       "      <td>0</td>\n",
       "      <td>0</td>\n",
       "      <td>0</td>\n",
       "      <td>0</td>\n",
       "      <td>3</td>\n",
       "    </tr>\n",
       "  </tbody>\n",
       "</table>\n",
       "</div>"
      ],
      "text/plain": [
       "         gender  pneumonia  pregnant  diabetes  copd  asthma  immunosup  \\\n",
       "185981        0          0         0         0     0       0          1   \n",
       "759590        1          0         0         0     0       0          0   \n",
       "1172666       1          0         0         0     0       0          0   \n",
       "1379552       0          0         0         0     0       0          0   \n",
       "1310747       0          0         0         0     0       0          0   \n",
       "\n",
       "         hypertension  cardiovascular  obesity  renal_chronic  tobacco  \\\n",
       "185981              0               0        1              0        0   \n",
       "759590              0               0        0              0        0   \n",
       "1172666             0               0        0              0        0   \n",
       "1379552             0               0        1              0        1   \n",
       "1310747             0               0        0              0        0   \n",
       "\n",
       "         closed_contact  another_complication  death  intubation  ICU  new_age  \n",
       "185981                0                     1      0           0    0        3  \n",
       "759590                0                     0      0           0    0        3  \n",
       "1172666               0                     0      0           0    0        3  \n",
       "1379552               1                     0      0           0    0        4  \n",
       "1310747               1                     0      0           0    0        3  "
      ]
     },
     "execution_count": 4,
     "metadata": {},
     "output_type": "execute_result"
    }
   ],
   "source": [
    "clean_df.head()"
   ]
  },
  {
   "cell_type": "code",
   "execution_count": 5,
   "id": "8fd1ff79",
   "metadata": {},
   "outputs": [
    {
     "data": {
      "text/plain": [
       "Counter({0: 44805, 1: 5195})"
      ]
     },
     "execution_count": 5,
     "metadata": {},
     "output_type": "execute_result"
    }
   ],
   "source": [
    "Counter(clean_df.death)"
   ]
  },
  {
   "cell_type": "code",
   "execution_count": 6,
   "id": "33c272a6",
   "metadata": {},
   "outputs": [],
   "source": [
    "y= clean_df['death']\n",
    "X = clean_df.drop(columns = ['ICU','intubation','death'])"
   ]
  },
  {
   "cell_type": "code",
   "execution_count": 7,
   "id": "f8421d0e",
   "metadata": {},
   "outputs": [],
   "source": [
    "X_train,X_test,y_train,y_test = train_test_split(X,y,random_state =42, stratify=y)"
   ]
  },
  {
   "cell_type": "code",
   "execution_count": 8,
   "id": "e01e1f1e",
   "metadata": {},
   "outputs": [],
   "source": [
    "# Creating StandardScaler instance\n",
    "scaler = StandardScaler()\n",
    "# Fitting standard scaler\n",
    "X_scaler = scaler.fit(X_train)\n",
    "\n",
    "# Scaling data\n",
    "X_train_scaled = X_scaler.transform(X_train)\n",
    "X_test_scaled = X_scaler.transform(X_test)"
   ]
  },
  {
   "cell_type": "code",
   "execution_count": 9,
   "id": "d3d8485b",
   "metadata": {},
   "outputs": [],
   "source": [
    "# # Resample the training data with SMOTE\n",
    "# from imblearn.over_sampling import SMOTE\n",
    "# X_resampled_s, y_resampled_s = SMOTE(random_state=1,\n",
    "# sampling_strategy='auto').fit_resample(X_train_scaled,y_train)\n",
    "# Counter(y_resampled_s)"
   ]
  },
  {
   "cell_type": "code",
   "execution_count": 10,
   "id": "3a595fdf",
   "metadata": {},
   "outputs": [],
   "source": [
    "# # Use SMOTEENN resampling method\n",
    "# from imblearn.combine import SMOTEENN \n",
    "# smote_enn = SMOTEENN(random_state=0)\n",
    "# X_resampled_s, y_resampled_s = smote_enn.fit_resample(X_train_scaled,y_train)\n",
    "# Counter(y_resampled_s)"
   ]
  },
  {
   "cell_type": "code",
   "execution_count": 11,
   "id": "4b2bdd34",
   "metadata": {},
   "outputs": [
    {
     "data": {
      "text/plain": [
       "Counter({0: 3896, 1: 3896})"
      ]
     },
     "execution_count": 11,
     "metadata": {},
     "output_type": "execute_result"
    }
   ],
   "source": [
    "from imblearn.under_sampling import RandomUnderSampler\n",
    "ros = RandomUnderSampler(random_state=1)\n",
    "X_resampled_s, y_resampled_s = ros.fit_resample(X_train_scaled, y_train)\n",
    "Counter(y_resampled_s)"
   ]
  },
  {
   "cell_type": "code",
   "execution_count": 12,
   "id": "ad4a6f29",
   "metadata": {},
   "outputs": [],
   "source": [
    "# keep_col = ['gender',\n",
    "#          'pneumonia', 'new_age',\n",
    "#        'pregnant', 'diabetes', 'copd',\n",
    "#        'asthma', 'immunosup', 'hypertension',\n",
    "#        'cardiovascular', 'obesity', 'renal_chronic', 'tobacco', 'another_complication', 'closed_contact']"
   ]
  },
  {
   "cell_type": "code",
   "execution_count": 13,
   "id": "a32edf3a",
   "metadata": {},
   "outputs": [
    {
     "name": "stdout",
     "output_type": "stream",
     "text": [
      "Model: \"sequential\"\n",
      "_________________________________________________________________\n",
      " Layer (type)                Output Shape              Param #   \n",
      "=================================================================\n",
      " dense (Dense)               (None, 80)                1280      \n",
      "                                                                 \n",
      " dense_1 (Dense)             (None, 30)                2430      \n",
      "                                                                 \n",
      " dense_2 (Dense)             (None, 1)                 31        \n",
      "                                                                 \n",
      "=================================================================\n",
      "Total params: 3,741\n",
      "Trainable params: 3,741\n",
      "Non-trainable params: 0\n",
      "_________________________________________________________________\n"
     ]
    }
   ],
   "source": [
    "# Define the model - deep neural net, i.e., the number of input features and hidden nodes for each layer.\n",
    "#  YOUR CODE GOES HERE\n",
    "number_of_features = len(X_resampled_s[0])\n",
    "first_layer_unit = 80\n",
    "second_layer_unit = 30\n",
    "first_activation = 'relu'\n",
    "second_activation = 'relu'\n",
    "\n",
    "nn = tf.keras.models.Sequential()\n",
    "\n",
    "# First hidden layer\n",
    "nn.add(\n",
    "    tf.keras.layers.Dense(units = first_layer_unit,input_dim = number_of_features,activation = first_activation))\n",
    "\n",
    "# Second hidden layer\n",
    "nn.add(\n",
    "    tf.keras.layers.Dense(units = second_layer_unit,activation = second_activation))\n",
    "\n",
    "# Output layer\n",
    "nn.add(\n",
    "    tf.keras.layers.Dense(units = 1, activation = 'sigmoid'))\n",
    "\n",
    "# Check the structure of the model\n",
    "nn.summary()"
   ]
  },
  {
   "cell_type": "code",
   "execution_count": 14,
   "id": "a74ac046",
   "metadata": {},
   "outputs": [],
   "source": [
    "# Compile the model\n",
    "nn.compile(loss=\"binary_crossentropy\", optimizer=\"adam\", metrics=[\"Accuracy\",\"TruePositives\",'FalseNegatives','Recall'])"
   ]
  },
  {
   "cell_type": "code",
   "execution_count": 15,
   "id": "e99d9c03",
   "metadata": {},
   "outputs": [
    {
     "name": "stdout",
     "output_type": "stream",
     "text": [
      "Epoch 1/50\n",
      "244/244 [==============================] - 4s 4ms/step - loss: 0.3810 - Accuracy: 0.8495 - true_positives: 3431.0000 - false_negatives: 465.0000 - recall: 0.8806\n",
      "Epoch 2/50\n",
      "244/244 [==============================] - 1s 4ms/step - loss: 0.3301 - Accuracy: 0.8654 - true_positives: 3438.0000 - false_negatives: 458.0000 - recall: 0.8824\n",
      "Epoch 3/50\n",
      "244/244 [==============================] - 1s 4ms/step - loss: 0.3261 - Accuracy: 0.8655 - true_positives: 3431.0000 - false_negatives: 465.0000 - recall: 0.8806\n",
      "Epoch 4/50\n",
      "244/244 [==============================] - 1s 3ms/step - loss: 0.3241 - Accuracy: 0.8678 - true_positives: 3445.0000 - false_negatives: 451.0000 - recall: 0.8842\n",
      "Epoch 5/50\n",
      "244/244 [==============================] - 1s 3ms/step - loss: 0.3227 - Accuracy: 0.8659 - true_positives: 3453.0000 - false_negatives: 443.0000 - recall: 0.8863\n",
      "Epoch 6/50\n",
      "244/244 [==============================] - 1s 3ms/step - loss: 0.3219 - Accuracy: 0.8667 - true_positives: 3447.0000 - false_negatives: 449.0000 - recall: 0.8848\n",
      "Epoch 7/50\n",
      "244/244 [==============================] - 1s 3ms/step - loss: 0.3210 - Accuracy: 0.8678 - true_positives: 3446.0000 - false_negatives: 450.0000 - recall: 0.8845\n",
      "Epoch 8/50\n",
      "244/244 [==============================] - 1s 3ms/step - loss: 0.3205 - Accuracy: 0.8652 - true_positives: 3438.0000 - false_negatives: 458.0000 - recall: 0.8824\n",
      "Epoch 9/50\n",
      "244/244 [==============================] - 1s 3ms/step - loss: 0.3195 - Accuracy: 0.8670 - true_positives: 3440.0000 - false_negatives: 456.0000 - recall: 0.8830\n",
      "Epoch 10/50\n",
      "244/244 [==============================] - 1s 3ms/step - loss: 0.3178 - Accuracy: 0.8658 - true_positives: 3446.0000 - false_negatives: 450.0000 - recall: 0.8845\n",
      "Epoch 11/50\n",
      "244/244 [==============================] - 1s 4ms/step - loss: 0.3185 - Accuracy: 0.8681 - true_positives: 3450.0000 - false_negatives: 446.0000 - recall: 0.8855\n",
      "Epoch 12/50\n",
      "244/244 [==============================] - 1s 3ms/step - loss: 0.3163 - Accuracy: 0.8692 - true_positives: 3448.0000 - false_negatives: 448.0000 - recall: 0.8850\n",
      "Epoch 13/50\n",
      "244/244 [==============================] - 1s 4ms/step - loss: 0.3163 - Accuracy: 0.8688 - true_positives: 3455.0000 - false_negatives: 441.0000 - recall: 0.8868\n",
      "Epoch 14/50\n",
      "244/244 [==============================] - 1s 4ms/step - loss: 0.3153 - Accuracy: 0.8696 - true_positives: 3452.0000 - false_negatives: 444.0000 - recall: 0.8860\n",
      "Epoch 15/50\n",
      "244/244 [==============================] - 0s 2ms/step - loss: 0.3160 - Accuracy: 0.8710 - true_positives: 3453.0000 - false_negatives: 443.0000 - recall: 0.8863\n",
      "Epoch 16/50\n",
      "244/244 [==============================] - 1s 2ms/step - loss: 0.3151 - Accuracy: 0.8688 - true_positives: 3440.0000 - false_negatives: 456.0000 - recall: 0.8830\n",
      "Epoch 17/50\n",
      "244/244 [==============================] - 0s 2ms/step - loss: 0.3155 - Accuracy: 0.8703 - true_positives: 3440.0000 - false_negatives: 456.0000 - recall: 0.8830\n",
      "Epoch 18/50\n",
      "244/244 [==============================] - 1s 2ms/step - loss: 0.3140 - Accuracy: 0.8717 - true_positives: 3447.0000 - false_negatives: 449.0000 - recall: 0.8848\n",
      "Epoch 19/50\n",
      "244/244 [==============================] - 0s 2ms/step - loss: 0.3142 - Accuracy: 0.8692 - true_positives: 3454.0000 - false_negatives: 442.0000 - recall: 0.8866\n",
      "Epoch 20/50\n",
      "244/244 [==============================] - 0s 2ms/step - loss: 0.3137 - Accuracy: 0.8697 - true_positives: 3469.0000 - false_negatives: 427.0000 - recall: 0.8904\n",
      "Epoch 21/50\n",
      "244/244 [==============================] - 1s 2ms/step - loss: 0.3133 - Accuracy: 0.8699 - true_positives: 3445.0000 - false_negatives: 451.0000 - recall: 0.8842\n",
      "Epoch 22/50\n",
      "244/244 [==============================] - 1s 2ms/step - loss: 0.3126 - Accuracy: 0.8708 - true_positives: 3463.0000 - false_negatives: 433.0000 - recall: 0.8889\n",
      "Epoch 23/50\n",
      "244/244 [==============================] - 1s 2ms/step - loss: 0.3124 - Accuracy: 0.8688 - true_positives: 3456.0000 - false_negatives: 440.0000 - recall: 0.8871\n",
      "Epoch 24/50\n",
      "244/244 [==============================] - 1s 3ms/step - loss: 0.3117 - Accuracy: 0.8703 - true_positives: 3445.0000 - false_negatives: 451.0000 - recall: 0.8842\n",
      "Epoch 25/50\n",
      "244/244 [==============================] - 1s 4ms/step - loss: 0.3110 - Accuracy: 0.8706 - true_positives: 3452.0000 - false_negatives: 444.0000 - recall: 0.8860\n",
      "Epoch 26/50\n",
      "244/244 [==============================] - 1s 4ms/step - loss: 0.3106 - Accuracy: 0.8701 - true_positives: 3442.0000 - false_negatives: 454.0000 - recall: 0.8835\n",
      "Epoch 27/50\n",
      "244/244 [==============================] - 1s 4ms/step - loss: 0.3100 - Accuracy: 0.8699 - true_positives: 3449.0000 - false_negatives: 447.0000 - recall: 0.8853\n",
      "Epoch 28/50\n",
      "244/244 [==============================] - 1s 4ms/step - loss: 0.3106 - Accuracy: 0.8705 - true_positives: 3442.0000 - false_negatives: 454.0000 - recall: 0.8835\n",
      "Epoch 29/50\n",
      "244/244 [==============================] - 1s 4ms/step - loss: 0.3102 - Accuracy: 0.8699 - true_positives: 3449.0000 - false_negatives: 447.0000 - recall: 0.8853\n",
      "Epoch 30/50\n",
      "244/244 [==============================] - 1s 4ms/step - loss: 0.3094 - Accuracy: 0.8709 - true_positives: 3441.0000 - false_negatives: 455.0000 - recall: 0.8832\n",
      "Epoch 31/50\n",
      "244/244 [==============================] - 1s 4ms/step - loss: 0.3092 - Accuracy: 0.8706 - true_positives: 3445.0000 - false_negatives: 451.0000 - recall: 0.8842\n",
      "Epoch 32/50\n",
      "244/244 [==============================] - 1s 4ms/step - loss: 0.3086 - Accuracy: 0.8727 - true_positives: 3445.0000 - false_negatives: 451.0000 - recall: 0.8842\n",
      "Epoch 33/50\n",
      "244/244 [==============================] - 1s 4ms/step - loss: 0.3085 - Accuracy: 0.8708 - true_positives: 3451.0000 - false_negatives: 445.0000 - recall: 0.8858\n",
      "Epoch 34/50\n",
      "244/244 [==============================] - 1s 4ms/step - loss: 0.3072 - Accuracy: 0.8714 - true_positives: 3453.0000 - false_negatives: 443.0000 - recall: 0.8863\n",
      "Epoch 35/50\n",
      "244/244 [==============================] - 1s 4ms/step - loss: 0.3068 - Accuracy: 0.8724 - true_positives: 3436.0000 - false_negatives: 460.0000 - recall: 0.8819\n",
      "Epoch 36/50\n",
      "244/244 [==============================] - 1s 3ms/step - loss: 0.3073 - Accuracy: 0.8714 - true_positives: 3442.0000 - false_negatives: 454.0000 - recall: 0.8835\n",
      "Epoch 37/50\n",
      "244/244 [==============================] - 0s 2ms/step - loss: 0.3073 - Accuracy: 0.8714 - true_positives: 3446.0000 - false_negatives: 450.0000 - recall: 0.8845\n",
      "Epoch 38/50\n",
      "244/244 [==============================] - 1s 2ms/step - loss: 0.3062 - Accuracy: 0.8735 - true_positives: 3459.0000 - false_negatives: 437.0000 - recall: 0.8878\n",
      "Epoch 39/50\n",
      "244/244 [==============================] - 1s 3ms/step - loss: 0.3058 - Accuracy: 0.8717 - true_positives: 3438.0000 - false_negatives: 458.0000 - recall: 0.8824\n",
      "Epoch 40/50\n",
      "244/244 [==============================] - 1s 3ms/step - loss: 0.3060 - Accuracy: 0.8742 - true_positives: 3459.0000 - false_negatives: 437.0000 - recall: 0.8878\n",
      "Epoch 41/50\n",
      "244/244 [==============================] - 1s 4ms/step - loss: 0.3050 - Accuracy: 0.8747 - true_positives: 3442.0000 - false_negatives: 454.0000 - recall: 0.8835\n",
      "Epoch 42/50\n",
      "244/244 [==============================] - 1s 4ms/step - loss: 0.3048 - Accuracy: 0.8714 - true_positives: 3449.0000 - false_negatives: 447.0000 - recall: 0.8853\n",
      "Epoch 43/50\n",
      "244/244 [==============================] - 1s 4ms/step - loss: 0.3047 - Accuracy: 0.8745 - true_positives: 3445.0000 - false_negatives: 451.0000 - recall: 0.8842\n",
      "Epoch 44/50\n",
      "244/244 [==============================] - 1s 4ms/step - loss: 0.3030 - Accuracy: 0.8736 - true_positives: 3454.0000 - false_negatives: 442.0000 - recall: 0.8866\n",
      "Epoch 45/50\n",
      "244/244 [==============================] - 1s 4ms/step - loss: 0.3042 - Accuracy: 0.8722 - true_positives: 3449.0000 - false_negatives: 447.0000 - recall: 0.8853\n",
      "Epoch 46/50\n",
      "244/244 [==============================] - 1s 4ms/step - loss: 0.3039 - Accuracy: 0.8726 - true_positives: 3446.0000 - false_negatives: 450.0000 - recall: 0.8845\n",
      "Epoch 47/50\n",
      "244/244 [==============================] - 1s 4ms/step - loss: 0.3037 - Accuracy: 0.8729 - true_positives: 3440.0000 - false_negatives: 456.0000 - recall: 0.8830\n",
      "Epoch 48/50\n"
     ]
    },
    {
     "name": "stdout",
     "output_type": "stream",
     "text": [
      "244/244 [==============================] - 1s 4ms/step - loss: 0.3032 - Accuracy: 0.8723 - true_positives: 3438.0000 - false_negatives: 458.0000 - recall: 0.8824\n",
      "Epoch 49/50\n",
      "244/244 [==============================] - 1s 3ms/step - loss: 0.3020 - Accuracy: 0.8732 - true_positives: 3459.0000 - false_negatives: 437.0000 - recall: 0.8878\n",
      "Epoch 50/50\n",
      "244/244 [==============================] - 1s 3ms/step - loss: 0.3015 - Accuracy: 0.8744 - true_positives: 3451.0000 - false_negatives: 445.0000 - recall: 0.8858\n"
     ]
    }
   ],
   "source": [
    "# Train the model\n",
    "fit_model = nn.fit(X_resampled_s, y_resampled_s,epochs = 50)"
   ]
  },
  {
   "cell_type": "code",
   "execution_count": 16,
   "id": "e6336f2d",
   "metadata": {},
   "outputs": [
    {
     "name": "stdout",
     "output_type": "stream",
     "text": [
      "391/391 - 2s - loss: 0.3556 - Accuracy: 0.8604 - true_positives: 1115.0000 - false_negatives: 184.0000 - recall: 0.8584 - 2s/epoch - 4ms/step\n",
      "[0.35564789175987244, 0.8604000210762024, 1115.0, 184.0, 0.8583526015281677]\n"
     ]
    }
   ],
   "source": [
    "# Evaluate the model using the test data : Recall: tp/(tp+fn) 0.829236\n",
    "results = nn.evaluate(X_test_scaled,y_test,verbose=2)\n",
    "print(results)\n",
    "# print(f\"Loss: {model_loss}, Accuracy: {model_accuracy}\")"
   ]
  },
  {
   "cell_type": "code",
   "execution_count": null,
   "id": "5bdd9fc6",
   "metadata": {},
   "outputs": [],
   "source": [
    "# #Plotting Precision-Recall Curve\n",
    "# disp = plot_precision_recall_curve(model, X_test_scaled, y_test)"
   ]
  },
  {
   "cell_type": "code",
   "execution_count": null,
   "id": "6a12948b",
   "metadata": {},
   "outputs": [],
   "source": [
    "# # # Create a method that creates a new Sequential model with hyperparameter options\n",
    "# def create_model(hp):\n",
    "#     nn_model = tf.keras.models.Sequential()\n",
    "\n",
    "#     # Allow kerastuner to decide which activation function to use in hidden layers\n",
    "#     activation = hp.Choice('activation',['relu','tanh','sigmoid'])\n",
    "#     first_units = hp.Int('first_units', min_value=1, max_value=10, step=2)\n",
    "    \n",
    "#     # Allow kerastuner to decide number of neurons in first layer\n",
    "#     nn_model.add(tf.keras.layers.Dense(units=first_units, activation=activation, input_dim=len(X_train_scaled[0])))\n",
    "\n",
    "#     # Allow kerastuner to decide number of hidden layers and neurons in hidden layers\n",
    "#     for i in range(hp.Int('num_layers', 1, 6)):\n",
    "#         next_units = hp.Int('units_' + str(i), min_value=1, max_value=10, step=2)\n",
    "\n",
    "#         nn_model.add(tf.keras.layers.Dense(units=next_units, activation=activation))\n",
    "    \n",
    "#     nn_model.add(tf.keras.layers.Dense(units=1, activation=\"sigmoid\"))\n",
    "\n",
    "#     # Compile the model\n",
    "#     nn_model.compile(loss=\"binary_crossentropy\", optimizer='adam', metrics=[\"Accuracy\"])\n",
    "\n",
    "#     return nn_model"
   ]
  },
  {
   "cell_type": "code",
   "execution_count": null,
   "id": "762760a0",
   "metadata": {},
   "outputs": [],
   "source": [
    "# import keras_tuner as kt\n",
    "\n",
    "# tuner = kt.Hyperband(\n",
    "#     create_model, # function name\n",
    "#     objective=\"val_accuracy\",\n",
    "#     max_epochs=20,\n",
    "#     hyperband_iterations=2)"
   ]
  },
  {
   "cell_type": "code",
   "execution_count": null,
   "id": "f6547f26",
   "metadata": {},
   "outputs": [],
   "source": [
    "# # Run the kerastuner search for best hyperparameters\n",
    "# tuner.search(X_resampled_s, y_resampled_s,epochs=20,validation_data=(X_test_scaled,y_test))"
   ]
  },
  {
   "cell_type": "code",
   "execution_count": null,
   "id": "79334834",
   "metadata": {},
   "outputs": [],
   "source": [
    "# # Get best model hyperparameters\n",
    "# best_hyper = tuner.get_best_hyperparameters(1)[0]\n",
    "# best_hyper.values"
   ]
  },
  {
   "cell_type": "code",
   "execution_count": null,
   "id": "d6e5b353",
   "metadata": {},
   "outputs": [],
   "source": [
    "# best_model = tuner.get_best_models(1)[0]\n",
    "# fit_model = best_model.fit(X_resampled_s, y_resampled_s, epochs=20)"
   ]
  },
  {
   "cell_type": "code",
   "execution_count": null,
   "id": "b6af7cde",
   "metadata": {},
   "outputs": [],
   "source": [
    "# # Evaluate best model against full test data\n",
    "# model_loss, model_accuracy = best_model.evaluate(X_test_scaled,y_test,verbose=2)\n",
    "# print(f\"Loss: {model_loss}, Accuracy: {model_accuracy}\")"
   ]
  },
  {
   "cell_type": "code",
   "execution_count": null,
   "id": "31b6b449",
   "metadata": {},
   "outputs": [],
   "source": [
    "# import numpy as np\n",
    "# from sklearn.feature_selection import SelectKBest, chi2, f_classif\n",
    "\n",
    "# # Perform feature selection\n",
    "# selector = SelectKBest(f_classif, k=10)\n",
    "# selector.fit(X, y)\n",
    "\n",
    "# # Get the raw p-values for each feature, and transform from p-values into scores\n",
    "# scores = -np.log10(selector.pvalues_)\n",
    "\n",
    "# # Plot the scores.\n",
    "# plt.bar(range(len(keep_col)), scores)\n",
    "# plt.xticks(range(len(keep_col)), X, rotation='vertical')\n",
    "# plt.show()"
   ]
  },
  {
   "cell_type": "code",
   "execution_count": null,
   "id": "0769c9a4",
   "metadata": {},
   "outputs": [],
   "source": []
  }
 ],
 "metadata": {
  "kernelspec": {
   "display_name": "mlenv",
   "language": "python",
   "name": "mlenv"
  },
  "language_info": {
   "codemirror_mode": {
    "name": "ipython",
    "version": 3
   },
   "file_extension": ".py",
   "mimetype": "text/x-python",
   "name": "python",
   "nbconvert_exporter": "python",
   "pygments_lexer": "ipython3",
   "version": "3.7.13"
  }
 },
 "nbformat": 4,
 "nbformat_minor": 5
}
