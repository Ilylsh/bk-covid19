{
 "cells": [
  {
   "cell_type": "code",
   "execution_count": 1,
   "id": "8812ab5f",
   "metadata": {},
   "outputs": [],
   "source": [
    "import pandas as pd"
   ]
  },
  {
   "cell_type": "code",
   "execution_count": null,
   "id": "8ba19a88",
   "metadata": {},
   "outputs": [],
   "source": [
    "ml = {\n",
    "    \"svm\":svm.SVC(),\n",
    "    'logisticregression':LogisticRegression(solver='lbfgs', random_state=1, max_iteration = 1000),\n",
    "    '':\n",
    "}\n",
    "\n",
    "results = []\n",
    "for x in ml:\n",
    "    model = model[x]\n",
    "    model.fit(X_train,y_train)\n",
    "    model.predict(X_test)\n",
    "    accuracy = model.score(X_test,y_test)\n",
    "    results.append({\n",
    "        'name':x\n",
    "        'accuracy':accuracy\n",
    "    })"
   ]
  },
  {
   "cell_type": "code",
   "execution_count": null,
   "id": "683fb046",
   "metadata": {},
   "outputs": [],
   "source": [
    "pd.DataFrame(results)"
   ]
  },
  {
   "cell_type": "code",
   "execution_count": null,
   "id": "96990f41",
   "metadata": {},
   "outputs": [],
   "source": [
    "pd.DataFrame(results).sort_values(ascending = False)"
   ]
  }
 ],
 "metadata": {
  "kernelspec": {
   "display_name": "mlenv",
   "language": "python",
   "name": "mlenv"
  },
  "language_info": {
   "codemirror_mode": {
    "name": "ipython",
    "version": 3
   },
   "file_extension": ".py",
   "mimetype": "text/x-python",
   "name": "python",
   "nbconvert_exporter": "python",
   "pygments_lexer": "ipython3",
   "version": "3.7.13"
  }
 },
 "nbformat": 4,
 "nbformat_minor": 5
}
