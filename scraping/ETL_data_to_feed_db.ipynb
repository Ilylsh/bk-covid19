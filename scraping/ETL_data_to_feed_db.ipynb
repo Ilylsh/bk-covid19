{
  "cells": [
    {
      "cell_type": "markdown",
      "metadata": {
        "id": "view-in-github",
        "colab_type": "text"
      },
      "source": [
        "<a href=\"https://colab.research.google.com/github/lindaperez/bk-covid19/blob/lperez_scraping/ETL_data_to_feed_db.ipynb\" target=\"_parent\"><img src=\"https://colab.research.google.com/assets/colab-badge.svg\" alt=\"Open In Colab\"/></a>"
      ]
    },
    {
      "cell_type": "markdown",
      "source": [
        "# Scraping:\n",
        "*Web scraping is a term for various methods used to collect information from across the Internet. Generally, this is done with software that simulates human Web surfing to collect specified bits of information from different websites.*"
      ],
      "metadata": {
        "id": "G7Z177q7BtG4"
      }
    },
    {
      "cell_type": "markdown",
      "source": [
        "Purpose: This file will update the database covid_db adding new patients and overwriting patients that already exist. This file will run from a cron demond every day at 11:00 PM PDT. "
      ],
      "metadata": {
        "id": "L_2LZpzRBTfq"
      }
    },
    {
      "cell_type": "markdown",
      "source": [
        "### Installing Spark, Postgresql, Defining Environment Variables"
      ],
      "metadata": {
        "id": "EXWLYah7Ahia"
      }
    },
    {
      "cell_type": "code",
      "execution_count": 12,
      "metadata": {
        "colab": {
          "base_uri": "https://localhost:8080/"
        },
        "id": "D27U2wh07f1c",
        "outputId": "b6cf0074-8c8a-43cf-db7e-44ce6ff19ca9"
      },
      "outputs": [
        {
          "output_type": "stream",
          "name": "stdout",
          "text": [
            "\r0% [Working]\r            \rHit:1 https://developer.download.nvidia.com/compute/cuda/repos/ubuntu1804/x86_64  InRelease\n",
            "\r0% [Connecting to archive.ubuntu.com] [Connecting to security.ubuntu.com] [Conn\r0% [1 InRelease gpgv 1,581 B] [Connecting to archive.ubuntu.com] [Connecting to\r                                                                               \rHit:2 https://cloud.r-project.org/bin/linux/ubuntu bionic-cran40/ InRelease\n",
            "\r0% [1 InRelease gpgv 1,581 B] [Connecting to archive.ubuntu.com (91.189.91.38)]\r                                                                               \rIgn:3 https://developer.download.nvidia.com/compute/machine-learning/repos/ubuntu1804/x86_64  InRelease\n",
            "\r0% [1 InRelease gpgv 1,581 B] [Waiting for headers] [Connecting to security.ubu\r0% [Waiting for headers] [Connecting to security.ubuntu.com (185.125.190.39)] [\r                                                                               \rHit:4 https://developer.download.nvidia.com/compute/machine-learning/repos/ubuntu1804/x86_64  Release\n",
            "Hit:5 http://archive.ubuntu.com/ubuntu bionic InRelease\n",
            "Hit:6 http://ppa.launchpad.net/c2d4u.team/c2d4u4.0+/ubuntu bionic InRelease\n",
            "Hit:7 http://archive.ubuntu.com/ubuntu bionic-updates InRelease\n",
            "Hit:8 http://archive.ubuntu.com/ubuntu bionic-backports InRelease\n",
            "Hit:9 http://security.ubuntu.com/ubuntu bionic-security InRelease\n",
            "Hit:10 http://ppa.launchpad.net/cran/libgit2/ubuntu bionic InRelease\n",
            "Hit:11 http://ppa.launchpad.net/deadsnakes/ppa/ubuntu bionic InRelease\n",
            "Hit:13 http://ppa.launchpad.net/graphics-drivers/ppa/ubuntu bionic InRelease\n",
            "Reading package lists... Done\n"
          ]
        }
      ],
      "source": [
        "import os\n",
        "# Find the latest version of spark 3.0  from http://www.apache.org/dist/spark/ and enter as the spark version\n",
        "# For example:\n",
        "spark_version = 'spark-3.0.3'\n",
        "#spark_version = 'spark-3.<enter version>'\n",
        "os.environ['SPARK_VERSION']=spark_version\n",
        "\n",
        "# Install Spark and Java\n",
        "!apt-get update\n",
        "!apt-get install openjdk-11-jdk-headless -qq > /dev/null\n",
        "!wget -q http://www.apache.org/dist/spark/$SPARK_VERSION/$SPARK_VERSION-bin-hadoop2.7.tgz\n",
        "!tar xf $SPARK_VERSION-bin-hadoop2.7.tgz\n",
        "!pip install -q findspark\n",
        "\n",
        "# Set Environment Variables\n",
        "import os\n",
        "os.environ[\"JAVA_HOME\"] = \"/usr/lib/jvm/java-11-openjdk-amd64\"\n",
        "os.environ[\"SPARK_HOME\"] = f\"/content/{spark_version}-bin-hadoop2.7\"\n",
        "\n",
        "# Start a SparkSession\n",
        "import findspark\n",
        "findspark.init()"
      ]
    },
    {
      "cell_type": "markdown",
      "source": [
        "### - Postgresql installation"
      ],
      "metadata": {
        "id": "eztuB3o0A9C6"
      }
    },
    {
      "cell_type": "code",
      "execution_count": 13,
      "metadata": {
        "colab": {
          "base_uri": "https://localhost:8080/"
        },
        "id": "j5GhARnN7v7E",
        "outputId": "fcda253d-9524-45c8-d538-1c94f02aa96b"
      },
      "outputs": [
        {
          "output_type": "stream",
          "name": "stdout",
          "text": [
            "--2022-07-04 00:35:50--  https://jdbc.postgresql.org/download/postgresql-42.2.16.jar\n",
            "Resolving jdbc.postgresql.org (jdbc.postgresql.org)... 72.32.157.228, 2001:4800:3e1:1::228\n",
            "Connecting to jdbc.postgresql.org (jdbc.postgresql.org)|72.32.157.228|:443... connected.\n",
            "HTTP request sent, awaiting response... 200 OK\n",
            "Length: 1002883 (979K) [application/java-archive]\n",
            "Saving to: ‘postgresql-42.2.16.jar.1’\n",
            "\n",
            "postgresql-42.2.16. 100%[===================>] 979.38K  --.-KB/s    in 0.08s   \n",
            "\n",
            "2022-07-04 00:35:50 (11.5 MB/s) - ‘postgresql-42.2.16.jar.1’ saved [1002883/1002883]\n",
            "\n"
          ]
        }
      ],
      "source": [
        "# Download the Postgres driver that will allow Spark to interact with Postgres.\n",
        "!wget https://jdbc.postgresql.org/download/postgresql-42.2.16.jar"
      ]
    },
    {
      "cell_type": "markdown",
      "source": [
        "### - Creating Spark Session"
      ],
      "metadata": {
        "id": "wkuwCoCKBCz5"
      }
    },
    {
      "cell_type": "code",
      "execution_count": 14,
      "metadata": {
        "id": "IfATz_wN7xEU"
      },
      "outputs": [],
      "source": [
        "from pyspark.sql import SparkSession\n",
        "from pyspark.sql.functions import col,regexp_replace\n",
        "spark = SparkSession.builder.appName(\"download_data_to_feed_db\").config(\"spark.driver.extraClassPath\",\"/content/postgresql-42.2.16.jar\").getOrCreate()"
      ]
    },
    {
      "cell_type": "markdown",
      "source": [
        "### - Installing library to upzip the file"
      ],
      "metadata": {
        "id": "r9IbMZuHDAYx"
      }
    },
    {
      "cell_type": "code",
      "execution_count": 15,
      "metadata": {
        "colab": {
          "base_uri": "https://localhost:8080/"
        },
        "id": "3HiJZoeK9VeU",
        "outputId": "9422de50-f651-495c-e815-be5615ac5926"
      },
      "outputs": [
        {
          "output_type": "stream",
          "name": "stdout",
          "text": [
            "Looking in indexes: https://pypi.org/simple, https://us-python.pkg.dev/colab-wheels/public/simple/\n",
            "Requirement already satisfied: zipfile_deflate64 in /usr/local/lib/python3.7/dist-packages (0.2.0)\n"
          ]
        }
      ],
      "source": [
        "!pip install zipfile_deflate64"
      ]
    },
    {
      "cell_type": "markdown",
      "source": [
        "## Scraping Process"
      ],
      "metadata": {
        "id": "yaxZ8qC9G_Ul"
      }
    },
    {
      "cell_type": "markdown",
      "source": [
        "### 1.- Download file from the website "
      ],
      "metadata": {
        "id": "pdvvoNuhE2QJ"
      }
    },
    {
      "cell_type": "code",
      "source": [
        "from pyspark import SparkFiles\n",
        "url = \"https://datosabiertos.salud.gob.mx/gobmx/salud/datos_abiertos/datos_abiertos_covid19.zip\"\n",
        "spark.sparkContext.addFile(url)"
      ],
      "metadata": {
        "id": "dWfps4xnISRJ"
      },
      "execution_count": 16,
      "outputs": []
    },
    {
      "cell_type": "markdown",
      "source": [
        "## 2.- Unzip File "
      ],
      "metadata": {
        "id": "_Xh5ByMpIAlM"
      }
    },
    {
      "cell_type": "code",
      "execution_count": 17,
      "metadata": {
        "colab": {
          "base_uri": "https://localhost:8080/"
        },
        "id": "3prH8K7383lF",
        "outputId": "3279311d-3f67-4960-e3d3-57aa9ba6256d"
      },
      "outputs": [
        {
          "output_type": "stream",
          "name": "stdout",
          "text": [
            "Archive:  /tmp/spark-6bf84c1b-9425-41c7-adcd-ce8503ec8fb9/userFiles-7fb7a935-efdd-4fad-af7b-59f990f47036/datos_abiertos_covid19.zip\n",
            "  inflating: datos_abiertos_new/220703COVID19MEXICO.csv  \n"
          ]
        }
      ],
      "source": [
        "file = SparkFiles.get(\"datos_abiertos_covid19.zip\")\n",
        "folder = 'datos_abiertos_new'\n",
        "!unzip -o \"$file\" -d \"$folder\""
      ]
    },
    {
      "cell_type": "code",
      "source": [
        ""
      ],
      "metadata": {
        "id": "7-WEpTrgfBZW"
      },
      "execution_count": null,
      "outputs": []
    },
    {
      "cell_type": "markdown",
      "source": [
        "### 3.- Read the File unziped"
      ],
      "metadata": {
        "id": "DUTusyCLSbta"
      }
    },
    {
      "cell_type": "code",
      "source": [
        "# define the offset of the day to extract the data\n",
        "from datetime import date,timedelta\n",
        "today = date.today()- timedelta(days=1)\n",
        "day = today.strftime('%y%m%d')\n",
        "# reading file from csv\n",
        "filename = day+'COVID19MEXICO.csv'\n",
        "folder = 'datos_abiertos_new/'\n",
        "print(folder+filename)\n",
        "df = spark.read.csv(folder+filename, header=True, inferSchema=True)"
      ],
      "metadata": {
        "id": "lPyYRebBPekU",
        "colab": {
          "base_uri": "https://localhost:8080/"
        },
        "outputId": "f75722e1-2240-4eca-dcdc-160a723ef2fb"
      },
      "execution_count": 20,
      "outputs": [
        {
          "output_type": "stream",
          "name": "stdout",
          "text": [
            "datos_abiertos_new/220703COVID19MEXICO.csv\n"
          ]
        }
      ]
    },
    {
      "cell_type": "code",
      "execution_count": 21,
      "metadata": {
        "id": "3N4sQRm99ZGU",
        "colab": {
          "base_uri": "https://localhost:8080/"
        },
        "outputId": "857ff354-5423-4574-de76-563d5678eac1"
      },
      "outputs": [
        {
          "output_type": "execute_result",
          "data": {
            "text/plain": [
              "[Row(FECHA_ACTUALIZACION='2022-07-03', ID_REGISTRO='zzf49f', ORIGEN=2, SECTOR=12, ENTIDAD_UM=19, SEXO=1, ENTIDAD_NAC=19, ENTIDAD_RES=19, MUNICIPIO_RES=39, TIPO_PACIENTE=1, FECHA_INGRESO='2020-05-20', FECHA_SINTOMAS='2020-05-19', FECHA_DEF='9999-99-99', INTUBADO=97, NEUMONIA=2, EDAD=63, NACIONALIDAD=1, EMBARAZO=2, HABLA_LENGUA_INDIG=99, INDIGENA=99, DIABETES=2, EPOC=2, ASMA=2, INMUSUPR=2, HIPERTENSION=2, OTRA_COM=2, CARDIOVASCULAR=2, OBESIDAD=2, RENAL_CRONICA=2, TABAQUISMO=2, OTRO_CASO=2, TOMA_MUESTRA_LAB=1, RESULTADO_LAB=2, TOMA_MUESTRA_ANTIGENO=2, RESULTADO_ANTIGENO=97, CLASIFICACION_FINAL=7, MIGRANTE=99, PAIS_NACIONALIDAD='México', PAIS_ORIGEN='97', UCI=97),\n",
              " Row(FECHA_ACTUALIZACION='2022-07-03', ID_REGISTRO='z1e370', ORIGEN=1, SECTOR=12, ENTIDAD_UM=14, SEXO=1, ENTIDAD_NAC=14, ENTIDAD_RES=14, MUNICIPIO_RES=85, TIPO_PACIENTE=1, FECHA_INGRESO='2020-04-22', FECHA_SINTOMAS='2020-04-18', FECHA_DEF='9999-99-99', INTUBADO=97, NEUMONIA=2, EDAD=42, NACIONALIDAD=1, EMBARAZO=2, HABLA_LENGUA_INDIG=2, INDIGENA=2, DIABETES=2, EPOC=2, ASMA=1, INMUSUPR=2, HIPERTENSION=2, OTRA_COM=2, CARDIOVASCULAR=2, OBESIDAD=2, RENAL_CRONICA=2, TABAQUISMO=2, OTRO_CASO=2, TOMA_MUESTRA_LAB=1, RESULTADO_LAB=2, TOMA_MUESTRA_ANTIGENO=2, RESULTADO_ANTIGENO=97, CLASIFICACION_FINAL=7, MIGRANTE=99, PAIS_NACIONALIDAD='México', PAIS_ORIGEN='97', UCI=97)]"
            ]
          },
          "metadata": {},
          "execution_count": 21
        }
      ],
      "source": [
        "df.head(2)"
      ]
    },
    {
      "cell_type": "code",
      "execution_count": 22,
      "metadata": {
        "colab": {
          "base_uri": "https://localhost:8080/",
          "height": 35
        },
        "id": "jGN2LXoI83oA",
        "outputId": "3b407208-b384-41fb-e710-74689bf1f836"
      },
      "outputs": [
        {
          "output_type": "execute_result",
          "data": {
            "text/plain": [
              "'/tmp/spark-6bf84c1b-9425-41c7-adcd-ce8503ec8fb9/userFiles-7fb7a935-efdd-4fad-af7b-59f990f47036/220703COVID19MEXICO.csv'"
            ],
            "application/vnd.google.colaboratory.intrinsic+json": {
              "type": "string"
            }
          },
          "metadata": {},
          "execution_count": 22
        }
      ],
      "source": [
        "# Temporal Folder where the file is located \n",
        "SparkFiles.get(filename)"
      ]
    },
    {
      "cell_type": "code",
      "execution_count": 23,
      "metadata": {
        "id": "QjWGsecv830x"
      },
      "outputs": [],
      "source": [
        "# Renaming columns from spanish to english\n",
        "df = df.selectExpr('FECHA_ACTUALIZACION AS data_file_updated', 'ID_REGISTRO AS id_patient',\n",
        "                     'ORIGEN AS resp_monitoring','SECTOR AS type_institution','ENTIDAD_UM AS state_medical_unit',\n",
        "                      'SEXO AS gender','ENTIDAD_NAC AS state_patient_birth','ENTIDAD_RES AS state_residence',\n",
        "                      'MUNICIPIO_RES AS city_patient_birth','TIPO_PACIENTE AS type_patient',\n",
        "                     'FECHA_INGRESO AS date_admitted','FECHA_SINTOMAS AS date_patient_symp',\n",
        "                     'FECHA_DEF AS date_patient_death','INTUBADO AS intubated','NEUMONIA AS pneumonia',\n",
        "                     'EDAD AS age','NACIONALIDAD AS resident',\n",
        "                     'EMBARAZO AS pregnant','HABLA_LENGUA_INDIG AS indigenous_lang',\n",
        "                     'INDIGENA AS indigenous','DIABETES AS diabetes',\n",
        "                     'EPOC AS copd','ASMA AS asthma','INMUSUPR AS immunosup',\n",
        "                     'HIPERTENSION AS hypertension','OTRA_COM AS another_complication',\n",
        "                     'CARDIOVASCULAR AS cardiovascular','OBESIDAD AS obesity',\n",
        "                     'RENAL_CRONICA AS renal_chronic','TABAQUISMO AS tobacco',\n",
        "                     'OTRO_CASO AS closed_contanct','TOMA_MUESTRA_LAB AS lab_sample',\n",
        "                     'RESULTADO_LAB AS lab_result','TOMA_MUESTRA_ANTIGENO AS antigen_sample',\n",
        "                     'RESULTADO_ANTIGENO AS antigen_result','CLASIFICACION_FINAL AS final_class',\n",
        "                     'MIGRANTE AS migrant','PAIS_NACIONALIDAD AS country_nationality',\n",
        "                      'PAIS_ORIGEN AS country_patient_birth','UCI AS icu')"
      ]
    },
    {
      "cell_type": "code",
      "execution_count": 26,
      "metadata": {
        "id": "r2GuUfuCGhyM"
      },
      "outputs": [],
      "source": [
        "# Configure connection with database AWS RDS\n",
        "mode = \"overwrite\"\n",
        "jdbc_url=\"jdbc:postgresql://prod-covid-patients.cqbgcjbaetrj.us-west-1.rds.amazonaws.com:5432/covid_db\"\n",
        "config = {\"user\":\"postgres\", \n",
        "          \"password\": password, \n",
        "          \"driver\":\"org.postgresql.Driver\"}"
      ]
    },
    {
      "cell_type": "code",
      "execution_count": null,
      "metadata": {
        "colab": {
          "background_save": true
        },
        "id": "eBZoTfEz835t"
      },
      "outputs": [],
      "source": [
        "# Overwriting df to table in RDS\n",
        "df.write.jdbc(url=jdbc_url, table='patient', mode=mode, properties=config) #5:55:39"
      ]
    },
    {
      "cell_type": "code",
      "execution_count": 27,
      "metadata": {
        "colab": {
          "base_uri": "https://localhost:8080/"
        },
        "id": "He5LsdjM839L",
        "outputId": "ecebe3d6-604f-421b-e759-e9f37603c580"
      },
      "outputs": [
        {
          "output_type": "stream",
          "name": "stdout",
          "text": [
            "+-----------------+----------+---------------+----------------+------------------+------+-------------------+---------------+------------------+------------+-------------+-----------------+------------------+---------+---------+---+--------+--------+---------------+----------+--------+----+------+---------+------------+--------------------+--------------+-------+-------------+-------+---------------+----------+----------+--------------+--------------+-----------+-------+-------------------+---------------------+---+\n",
            "|data_file_updated|id_patient|resp_monitoring|type_institution|state_medical_unit|gender|state_patient_birth|state_residence|city_patient_birth|type_patient|date_admitted|date_patient_symp|date_patient_death|intubated|pneumonia|age|resident|pregnant|indigenous_lang|indigenous|diabetes|copd|asthma|immunosup|hypertension|another_complication|cardiovascular|obesity|renal_chronic|tobacco|closed_contanct|lab_sample|lab_result|antigen_sample|antigen_result|final_class|migrant|country_nationality|country_patient_birth|icu|\n",
            "+-----------------+----------+---------------+----------------+------------------+------+-------------------+---------------+------------------+------------+-------------+-----------------+------------------+---------+---------+---+--------+--------+---------------+----------+--------+----+------+---------+------------+--------------------+--------------+-------+-------------+-------+---------------+----------+----------+--------------+--------------+-----------+-------+-------------------+---------------------+---+\n",
            "|       2022-07-01|    4a4682|              2|              12|                 9|     1|                  9|              9|                13|           1|   2022-02-04|       2022-01-26|        9999-99-99|       97|        2| 59|       1|       2|              2|         2|       2|   2|     2|        2|           2|                   2|             2|      2|            2|      1|              1|         2|        97|             1|             2|          7|     99|             México|                   97| 97|\n",
            "|       2022-07-01|    795658|              2|               9|                 9|     1|                 21|             21|                 4|           1|   2022-01-28|       2022-01-28|        9999-99-99|       97|        2| 42|       1|       2|              2|         2|       2|   2|     2|        2|           2|                   2|             2|      2|            2|      2|              1|         2|        97|             1|             2|          7|     99|             México|                   97| 97|\n",
            "|       2022-07-01|    c86ec4|              1|              12|                23|     1|                 30|             23|                 4|           1|   2022-02-05|       2022-02-01|        9999-99-99|       97|        2| 39|       1|       2|              2|         2|       1|   2|     2|        2|           2|                   2|             2|      1|            2|      2|              2|         2|        97|             1|             2|          7|     99|             México|                   97| 97|\n",
            "+-----------------+----------+---------------+----------------+------------------+------+-------------------+---------------+------------------+------------+-------------+-----------------+------------------+---------+---------+---+--------+--------+---------------+----------+--------+----+------+---------+------------+--------------------+--------------+-------+-------------+-------+---------------+----------+----------+--------------+--------------+-----------+-------+-------------------+---------------------+---+\n",
            "\n"
          ]
        }
      ],
      "source": [
        "# Testing\n",
        "_select_sql = \"(SELECT * FROM PATIENT P LIMIT 3) temp\"\n",
        "df_select = spark.read.jdbc(url=jdbc_url,table=_select_sql,properties=config)\n",
        "df_select.show(5)"
      ]
    },
    {
      "cell_type": "code",
      "execution_count": null,
      "metadata": {
        "colab": {
          "base_uri": "https://localhost:8080/"
        },
        "id": "Z9iIB4kTjKNe",
        "outputId": "30156c24-80a2-4d58-fb77-28713776b0cf"
      },
      "outputs": [
        {
          "output_type": "stream",
          "name": "stdout",
          "text": [
            "*********************************************************************\n",
            "The scraping finished successfully with  16638854  rows loadded \n",
            "*********************************************************************\n"
          ]
        }
      ],
      "source": [
        "print(\"*********************************************************************\")\n",
        "print(\"The scraping finished successfully with \",df.count(),\" rows loadded \")\n",
        "print(\"*********************************************************************\")"
      ]
    }
  ],
  "metadata": {
    "colab": {
      "collapsed_sections": [],
      "name": "ETL_data_to_feed_db.ipynb",
      "provenance": [],
      "authorship_tag": "ABX9TyO6B2YO1um1xTS0g5ckYrin",
      "include_colab_link": true
    },
    "kernelspec": {
      "display_name": "Python 3",
      "name": "python3"
    },
    "language_info": {
      "name": "python"
    }
  },
  "nbformat": 4,
  "nbformat_minor": 0
}