{
 "cells": [
  {
   "cell_type": "code",
   "execution_count": 2,
   "id": "c99d8865",
   "metadata": {},
   "outputs": [],
   "source": [
    "# Import libraries\n",
    "\n",
    "# Pandas\n",
    "import pandas as pd\n",
    "from collections import Counter\n",
    "\n",
    "import matplotlib.pyplot as plt\n",
    "import numpy as np\n",
    "\n",
    "\n",
    "from sklearn.model_selection import train_test_split\n",
    "from sklearn.preprocessing import StandardScaler,OneHotEncoder\n",
    "from sklearn.metrics import confusion_matrix\n",
    "\n",
    "\n",
    "from sklearn.linear_model import LogisticRegression\n",
    "\n",
    "from sklearn.metrics import balanced_accuracy_score\n",
    "from sklearn.metrics import accuracy_score\n",
    "from imblearn.metrics import classification_report_imbalanced\n",
    "from sklearn.metrics import classification_report\n",
    "from imblearn.ensemble import EasyEnsembleClassifier\n",
    "from sklearn.tree import DecisionTreeClassifier\n",
    "from sklearn.ensemble import GradientBoostingClassifier\n",
    "from sklearn.ensemble import RandomForestClassifier\n",
    "from sklearn.metrics import precision_recall_curve\n",
    "from sklearn.metrics import plot_precision_recall_curve\n",
    "from sklearn.metrics import precision_score\n",
    "from sklearn.metrics import recall_score\n",
    "\n",
    "from sklearn.svm import SVC\n",
    "import sklearn as skl\n",
    "import tensorflow as tf"
   ]
  },
  {
   "cell_type": "code",
   "execution_count": 4,
   "id": "172f0c56",
   "metadata": {},
   "outputs": [],
   "source": [
    "# create DataFrame from the clean csv file\n",
    "file = 'clean_ml_data_0625.csv'\n",
    "clean_df = pd.read_csv(file)"
   ]
  },
  {
   "cell_type": "code",
   "execution_count": 5,
   "id": "41051e20",
   "metadata": {},
   "outputs": [],
   "source": [
    "# Get a sample of 50,000 rows of data\n",
    "clean_df = clean_df.sample(50000)"
   ]
  },
  {
   "cell_type": "code",
   "execution_count": 6,
   "id": "66b15327",
   "metadata": {
    "scrolled": true
   },
   "outputs": [
    {
     "data": {
      "text/html": [
       "<div>\n",
       "<style scoped>\n",
       "    .dataframe tbody tr th:only-of-type {\n",
       "        vertical-align: middle;\n",
       "    }\n",
       "\n",
       "    .dataframe tbody tr th {\n",
       "        vertical-align: top;\n",
       "    }\n",
       "\n",
       "    .dataframe thead th {\n",
       "        text-align: right;\n",
       "    }\n",
       "</style>\n",
       "<table border=\"1\" class=\"dataframe\">\n",
       "  <thead>\n",
       "    <tr style=\"text-align: right;\">\n",
       "      <th></th>\n",
       "      <th>gender</th>\n",
       "      <th>pneumonia</th>\n",
       "      <th>pregnant</th>\n",
       "      <th>diabetes</th>\n",
       "      <th>copd</th>\n",
       "      <th>asthma</th>\n",
       "      <th>immunosup</th>\n",
       "      <th>hypertension</th>\n",
       "      <th>cardiovascular</th>\n",
       "      <th>obesity</th>\n",
       "      <th>renal_chronic</th>\n",
       "      <th>tobacco</th>\n",
       "      <th>closed_contact</th>\n",
       "      <th>another_complication</th>\n",
       "      <th>death</th>\n",
       "      <th>intubation</th>\n",
       "      <th>ICU</th>\n",
       "      <th>new_age</th>\n",
       "    </tr>\n",
       "  </thead>\n",
       "  <tbody>\n",
       "    <tr>\n",
       "      <th>311375</th>\n",
       "      <td>0</td>\n",
       "      <td>1</td>\n",
       "      <td>0</td>\n",
       "      <td>1</td>\n",
       "      <td>0</td>\n",
       "      <td>0</td>\n",
       "      <td>0</td>\n",
       "      <td>0</td>\n",
       "      <td>0</td>\n",
       "      <td>0</td>\n",
       "      <td>0</td>\n",
       "      <td>0</td>\n",
       "      <td>0</td>\n",
       "      <td>0</td>\n",
       "      <td>0</td>\n",
       "      <td>0</td>\n",
       "      <td>0</td>\n",
       "      <td>5</td>\n",
       "    </tr>\n",
       "    <tr>\n",
       "      <th>396244</th>\n",
       "      <td>0</td>\n",
       "      <td>0</td>\n",
       "      <td>0</td>\n",
       "      <td>0</td>\n",
       "      <td>0</td>\n",
       "      <td>0</td>\n",
       "      <td>0</td>\n",
       "      <td>0</td>\n",
       "      <td>0</td>\n",
       "      <td>0</td>\n",
       "      <td>0</td>\n",
       "      <td>0</td>\n",
       "      <td>0</td>\n",
       "      <td>0</td>\n",
       "      <td>0</td>\n",
       "      <td>0</td>\n",
       "      <td>0</td>\n",
       "      <td>5</td>\n",
       "    </tr>\n",
       "    <tr>\n",
       "      <th>616632</th>\n",
       "      <td>1</td>\n",
       "      <td>0</td>\n",
       "      <td>0</td>\n",
       "      <td>0</td>\n",
       "      <td>0</td>\n",
       "      <td>0</td>\n",
       "      <td>0</td>\n",
       "      <td>0</td>\n",
       "      <td>0</td>\n",
       "      <td>0</td>\n",
       "      <td>0</td>\n",
       "      <td>0</td>\n",
       "      <td>0</td>\n",
       "      <td>0</td>\n",
       "      <td>0</td>\n",
       "      <td>0</td>\n",
       "      <td>0</td>\n",
       "      <td>5</td>\n",
       "    </tr>\n",
       "    <tr>\n",
       "      <th>960166</th>\n",
       "      <td>1</td>\n",
       "      <td>0</td>\n",
       "      <td>0</td>\n",
       "      <td>0</td>\n",
       "      <td>0</td>\n",
       "      <td>0</td>\n",
       "      <td>0</td>\n",
       "      <td>0</td>\n",
       "      <td>0</td>\n",
       "      <td>0</td>\n",
       "      <td>0</td>\n",
       "      <td>0</td>\n",
       "      <td>1</td>\n",
       "      <td>0</td>\n",
       "      <td>0</td>\n",
       "      <td>0</td>\n",
       "      <td>0</td>\n",
       "      <td>4</td>\n",
       "    </tr>\n",
       "    <tr>\n",
       "      <th>913966</th>\n",
       "      <td>1</td>\n",
       "      <td>0</td>\n",
       "      <td>0</td>\n",
       "      <td>0</td>\n",
       "      <td>0</td>\n",
       "      <td>0</td>\n",
       "      <td>0</td>\n",
       "      <td>0</td>\n",
       "      <td>0</td>\n",
       "      <td>0</td>\n",
       "      <td>0</td>\n",
       "      <td>0</td>\n",
       "      <td>1</td>\n",
       "      <td>0</td>\n",
       "      <td>0</td>\n",
       "      <td>0</td>\n",
       "      <td>0</td>\n",
       "      <td>2</td>\n",
       "    </tr>\n",
       "  </tbody>\n",
       "</table>\n",
       "</div>"
      ],
      "text/plain": [
       "        gender  pneumonia  pregnant  diabetes  copd  asthma  immunosup  \\\n",
       "311375       0          1         0         1     0       0          0   \n",
       "396244       0          0         0         0     0       0          0   \n",
       "616632       1          0         0         0     0       0          0   \n",
       "960166       1          0         0         0     0       0          0   \n",
       "913966       1          0         0         0     0       0          0   \n",
       "\n",
       "        hypertension  cardiovascular  obesity  renal_chronic  tobacco  \\\n",
       "311375             0               0        0              0        0   \n",
       "396244             0               0        0              0        0   \n",
       "616632             0               0        0              0        0   \n",
       "960166             0               0        0              0        0   \n",
       "913966             0               0        0              0        0   \n",
       "\n",
       "        closed_contact  another_complication  death  intubation  ICU  new_age  \n",
       "311375               0                     0      0           0    0        5  \n",
       "396244               0                     0      0           0    0        5  \n",
       "616632               0                     0      0           0    0        5  \n",
       "960166               1                     0      0           0    0        4  \n",
       "913966               1                     0      0           0    0        2  "
      ]
     },
     "execution_count": 6,
     "metadata": {},
     "output_type": "execute_result"
    }
   ],
   "source": [
    "# Check dataset\n",
    "clean_df.head()"
   ]
  },
  {
   "cell_type": "code",
   "execution_count": 7,
   "id": "8fd1ff79",
   "metadata": {},
   "outputs": [
    {
     "data": {
      "text/plain": [
       "Counter({0: 44936, 1: 5064})"
      ]
     },
     "execution_count": 7,
     "metadata": {},
     "output_type": "execute_result"
    }
   ],
   "source": [
    "# Check the class distribution\n",
    "Counter(clean_df.death)"
   ]
  },
  {
   "cell_type": "code",
   "execution_count": 8,
   "id": "33c272a6",
   "metadata": {},
   "outputs": [],
   "source": [
    "# get the target column ['death'] and rest of the features, excluing death, ICU and Intubation\n",
    "y= clean_df['death']\n",
    "X = clean_df.drop(columns = ['ICU','intubation','death'])"
   ]
  },
  {
   "cell_type": "code",
   "execution_count": 9,
   "id": "f8421d0e",
   "metadata": {},
   "outputs": [],
   "source": [
    "# Split the training and test dataset to fit the model\n",
    "X_train,X_test,y_train,y_test = train_test_split(X,y,random_state =42, stratify=y)"
   ]
  },
  {
   "cell_type": "code",
   "execution_count": 10,
   "id": "e01e1f1e",
   "metadata": {},
   "outputs": [],
   "source": [
    "# Creating StandardScaler instance\n",
    "scaler = StandardScaler()\n",
    "# Fitting standard scaler\n",
    "X_scaler = scaler.fit(X_train)\n",
    "\n",
    "# Scaling data\n",
    "X_train_scaled = X_scaler.transform(X_train)\n",
    "X_test_scaled = X_scaler.transform(X_test)"
   ]
  },
  {
   "cell_type": "code",
   "execution_count": 11,
   "id": "d3d8485b",
   "metadata": {},
   "outputs": [
    {
     "data": {
      "text/plain": [
       "Counter({0: 33702, 1: 33702})"
      ]
     },
     "execution_count": 11,
     "metadata": {},
     "output_type": "execute_result"
    }
   ],
   "source": [
    "# Resample the training data with SMOTE\n",
    "from imblearn.over_sampling import SMOTE\n",
    "X_resampled_s, y_resampled_s = SMOTE(random_state=1,\n",
    "sampling_strategy='auto').fit_resample(X_train_scaled,y_train)\n",
    "Counter(y_resampled_s)"
   ]
  },
  {
   "cell_type": "code",
   "execution_count": null,
   "id": "cec8e89f",
   "metadata": {},
   "outputs": [],
   "source": [
    "# from imblearn.under_sampling import RandomUnderSampler\n",
    "# ros = RandomUnderSampler(random_state=1)\n",
    "# X_resampled_s, y_resampled_s = ros.fit_resample(X_train_scaled, y_train)\n",
    "# Counter(y_resampled_s)"
   ]
  },
  {
   "cell_type": "code",
   "execution_count": null,
   "id": "3a595fdf",
   "metadata": {},
   "outputs": [],
   "source": [
    "# # Use SMOTEENN resampling method\n",
    "# from imblearn.combine import SMOTEENN \n",
    "# smote_enn = SMOTEENN(random_state=0)\n",
    "# X_resampled_s, y_resampled_s = smote_enn.fit_resample(X_train_scaled,y_train)\n",
    "# Counter(y_resampled_s)"
   ]
  },
  {
   "cell_type": "code",
   "execution_count": null,
   "id": "ad4a6f29",
   "metadata": {},
   "outputs": [],
   "source": [
    "# keep_col = ['gender',\n",
    "#          'pneumonia', 'new_age',\n",
    "#        'pregnant', 'diabetes', 'copd',\n",
    "#        'asthma', 'immunosup', 'hypertension',\n",
    "#        'cardiovascular', 'obesity', 'renal_chronic', 'tobacco', 'another_complication', 'closed_contact']"
   ]
  },
  {
   "cell_type": "code",
   "execution_count": 10,
   "id": "bc93e676",
   "metadata": {},
   "outputs": [
    {
     "name": "stdout",
     "output_type": "stream",
     "text": [
      "Model: \"sequential\"\n",
      "_________________________________________________________________\n",
      " Layer (type)                Output Shape              Param #   \n",
      "=================================================================\n",
      " dense (Dense)               (None, 80)                1280      \n",
      "                                                                 \n",
      " dense_1 (Dense)             (None, 30)                2430      \n",
      "                                                                 \n",
      " dense_2 (Dense)             (None, 1)                 31        \n",
      "                                                                 \n",
      "=================================================================\n",
      "Total params: 3,741\n",
      "Trainable params: 3,741\n",
      "Non-trainable params: 0\n",
      "_________________________________________________________________\n"
     ]
    }
   ],
   "source": [
    "# Define the model - deep neural net, i.e., the number of input features and hidden nodes for each layer.\n",
    "#  YOUR CODE GOES HERE\n",
    "number_of_features = len(X_resampled_s[0])\n",
    "first_layer_unit = 80\n",
    "second_layer_unit = 30\n",
    "first_activation = 'relu'\n",
    "second_activation = 'relu'\n",
    "\n",
    "nn = tf.keras.models.Sequential()\n",
    "\n",
    "# First hidden layer\n",
    "nn.add(\n",
    "    tf.keras.layers.Dense(units = first_layer_unit,input_dim = number_of_features,activation = first_activation))\n",
    "\n",
    "# Second hidden layer\n",
    "nn.add(\n",
    "    tf.keras.layers.Dense(units = second_layer_unit,activation = second_activation))\n",
    "\n",
    "# Output layer\n",
    "nn.add(\n",
    "    tf.keras.layers.Dense(units = 1, activation = 'sigmoid'))\n",
    "\n",
    "# Check the structure of the model\n",
    "nn.summary()"
   ]
  },
  {
   "cell_type": "code",
   "execution_count": 11,
   "id": "9590e2be",
   "metadata": {},
   "outputs": [],
   "source": [
    "# Compile the model\n",
    "nn.compile(loss=\"binary_crossentropy\", optimizer=\"adam\", metrics=[\"Accuracy\",\"TruePositives\",'FalseNegatives','Recall'])"
   ]
  },
  {
   "cell_type": "code",
   "execution_count": 12,
   "id": "136dc935",
   "metadata": {},
   "outputs": [
    {
     "name": "stdout",
     "output_type": "stream",
     "text": [
      "Epoch 1/50\n",
      "2109/2109 [==============================] - 9s 3ms/step - loss: 0.3296 - Accuracy: 0.8654 - true_positives: 30153.0000 - false_negatives: 3583.0000 - recall: 0.8938\n",
      "Epoch 2/50\n",
      "2109/2109 [==============================] - 5s 2ms/step - loss: 0.3166 - Accuracy: 0.8706 - true_positives: 30316.0000 - false_negatives: 3420.0000 - recall: 0.8986\n",
      "Epoch 3/50\n",
      "2109/2109 [==============================] - 5s 3ms/step - loss: 0.3137 - Accuracy: 0.8714 - true_positives: 30332.0000 - false_negatives: 3404.0000 - recall: 0.8991\n",
      "Epoch 4/50\n",
      "2109/2109 [==============================] - 6s 3ms/step - loss: 0.3121 - Accuracy: 0.8726 - true_positives: 30390.0000 - false_negatives: 3346.0000 - recall: 0.9008\n",
      "Epoch 5/50\n",
      "2109/2109 [==============================] - 8s 4ms/step - loss: 0.3101 - Accuracy: 0.8740 - true_positives: 30413.0000 - false_negatives: 3323.0000 - recall: 0.9015\n",
      "Epoch 6/50\n",
      "2109/2109 [==============================] - 8s 4ms/step - loss: 0.3089 - Accuracy: 0.8747 - true_positives: 30455.0000 - false_negatives: 3281.0000 - recall: 0.9027\n",
      "Epoch 7/50\n",
      "2109/2109 [==============================] - 8s 4ms/step - loss: 0.3076 - Accuracy: 0.8750 - true_positives: 30436.0000 - false_negatives: 3300.0000 - recall: 0.9022\n",
      "Epoch 8/50\n",
      "2109/2109 [==============================] - 8s 4ms/step - loss: 0.3063 - Accuracy: 0.8754 - true_positives: 30451.0000 - false_negatives: 3285.0000 - recall: 0.9026\n",
      "Epoch 9/50\n",
      "2109/2109 [==============================] - 8s 4ms/step - loss: 0.3056 - Accuracy: 0.8750 - true_positives: 30431.0000 - false_negatives: 3305.0000 - recall: 0.9020\n",
      "Epoch 10/50\n",
      "2109/2109 [==============================] - 8s 4ms/step - loss: 0.3044 - Accuracy: 0.8759 - true_positives: 30463.0000 - false_negatives: 3273.0000 - recall: 0.9030\n",
      "Epoch 11/50\n",
      "2109/2109 [==============================] - 8s 4ms/step - loss: 0.3039 - Accuracy: 0.8763 - true_positives: 30521.0000 - false_negatives: 3215.0000 - recall: 0.9047\n",
      "Epoch 12/50\n",
      "2109/2109 [==============================] - 8s 4ms/step - loss: 0.3030 - Accuracy: 0.8763 - true_positives: 30507.0000 - false_negatives: 3229.0000 - recall: 0.9043\n",
      "Epoch 13/50\n",
      "2109/2109 [==============================] - 8s 4ms/step - loss: 0.3022 - Accuracy: 0.8767 - true_positives: 30515.0000 - false_negatives: 3221.0000 - recall: 0.9045\n",
      "Epoch 14/50\n",
      "2109/2109 [==============================] - 8s 4ms/step - loss: 0.3014 - Accuracy: 0.8775 - true_positives: 30474.0000 - false_negatives: 3262.0000 - recall: 0.9033\n",
      "Epoch 15/50\n",
      "2109/2109 [==============================] - 8s 4ms/step - loss: 0.3010 - Accuracy: 0.8785 - true_positives: 30551.0000 - false_negatives: 3185.0000 - recall: 0.9056\n",
      "Epoch 16/50\n",
      "2109/2109 [==============================] - 8s 4ms/step - loss: 0.3002 - Accuracy: 0.8778 - true_positives: 30535.0000 - false_negatives: 3201.0000 - recall: 0.9051\n",
      "Epoch 17/50\n",
      "2109/2109 [==============================] - 8s 4ms/step - loss: 0.2994 - Accuracy: 0.8785 - true_positives: 30541.0000 - false_negatives: 3195.0000 - recall: 0.9053\n",
      "Epoch 18/50\n",
      "2109/2109 [==============================] - 6s 3ms/step - loss: 0.2988 - Accuracy: 0.8783 - true_positives: 30527.0000 - false_negatives: 3209.0000 - recall: 0.9049\n",
      "Epoch 19/50\n",
      "2109/2109 [==============================] - 5s 2ms/step - loss: 0.2981 - Accuracy: 0.8783 - true_positives: 30487.0000 - false_negatives: 3249.0000 - recall: 0.9037\n",
      "Epoch 20/50\n",
      "2109/2109 [==============================] - 6s 3ms/step - loss: 0.2976 - Accuracy: 0.8787 - true_positives: 30528.0000 - false_negatives: 3208.0000 - recall: 0.9049\n",
      "Epoch 21/50\n",
      "2109/2109 [==============================] - 8s 4ms/step - loss: 0.2973 - Accuracy: 0.8790 - true_positives: 30522.0000 - false_negatives: 3214.0000 - recall: 0.9047\n",
      "Epoch 22/50\n",
      "2109/2109 [==============================] - 8s 4ms/step - loss: 0.2964 - Accuracy: 0.8795 - true_positives: 30577.0000 - false_negatives: 3159.0000 - recall: 0.9064\n",
      "Epoch 23/50\n",
      "2109/2109 [==============================] - 8s 4ms/step - loss: 0.2962 - Accuracy: 0.8794 - true_positives: 30558.0000 - false_negatives: 3178.0000 - recall: 0.9058\n",
      "Epoch 24/50\n",
      "2109/2109 [==============================] - 8s 4ms/step - loss: 0.2957 - Accuracy: 0.8797 - true_positives: 30517.0000 - false_negatives: 3219.0000 - recall: 0.9046\n",
      "Epoch 25/50\n",
      "2109/2109 [==============================] - 8s 4ms/step - loss: 0.2952 - Accuracy: 0.8800 - true_positives: 30507.0000 - false_negatives: 3229.0000 - recall: 0.9043\n",
      "Epoch 26/50\n",
      "2109/2109 [==============================] - 5s 2ms/step - loss: 0.2947 - Accuracy: 0.8796 - true_positives: 30581.0000 - false_negatives: 3155.0000 - recall: 0.9065\n",
      "Epoch 27/50\n",
      "2109/2109 [==============================] - 6s 3ms/step - loss: 0.2941 - Accuracy: 0.8809 - true_positives: 30574.0000 - false_negatives: 3162.0000 - recall: 0.9063\n",
      "Epoch 28/50\n",
      "2109/2109 [==============================] - 5s 3ms/step - loss: 0.2937 - Accuracy: 0.8801 - true_positives: 30521.0000 - false_negatives: 3215.0000 - recall: 0.9047\n",
      "Epoch 29/50\n",
      "2109/2109 [==============================] - 5s 3ms/step - loss: 0.2937 - Accuracy: 0.8807 - true_positives: 30540.0000 - false_negatives: 3196.0000 - recall: 0.9053\n",
      "Epoch 30/50\n",
      "2109/2109 [==============================] - 5s 2ms/step - loss: 0.2931 - Accuracy: 0.8811 - true_positives: 30609.0000 - false_negatives: 3127.0000 - recall: 0.9073\n",
      "Epoch 31/50\n",
      "2109/2109 [==============================] - 6s 3ms/step - loss: 0.2926 - Accuracy: 0.8809 - true_positives: 30541.0000 - false_negatives: 3195.0000 - recall: 0.9053\n",
      "Epoch 32/50\n",
      "2109/2109 [==============================] - 5s 2ms/step - loss: 0.2926 - Accuracy: 0.8814 - true_positives: 30553.0000 - false_negatives: 3183.0000 - recall: 0.9056\n",
      "Epoch 33/50\n",
      "2109/2109 [==============================] - 6s 3ms/step - loss: 0.2922 - Accuracy: 0.8811 - true_positives: 30571.0000 - false_negatives: 3165.0000 - recall: 0.9062\n",
      "Epoch 34/50\n",
      "2109/2109 [==============================] - 5s 2ms/step - loss: 0.2916 - Accuracy: 0.8817 - true_positives: 30590.0000 - false_negatives: 3146.0000 - recall: 0.9067\n",
      "Epoch 35/50\n",
      "2109/2109 [==============================] - 5s 2ms/step - loss: 0.2915 - Accuracy: 0.8816 - true_positives: 30528.0000 - false_negatives: 3208.0000 - recall: 0.9049\n",
      "Epoch 36/50\n",
      "2109/2109 [==============================] - 6s 3ms/step - loss: 0.2915 - Accuracy: 0.8818 - true_positives: 30634.0000 - false_negatives: 3102.0000 - recall: 0.9081\n",
      "Epoch 37/50\n",
      "2109/2109 [==============================] - 7s 3ms/step - loss: 0.2909 - Accuracy: 0.8820 - true_positives: 30585.0000 - false_negatives: 3151.0000 - recall: 0.9066\n",
      "Epoch 38/50\n",
      "2109/2109 [==============================] - 6s 3ms/step - loss: 0.2908 - Accuracy: 0.8818 - true_positives: 30606.0000 - false_negatives: 3130.0000 - recall: 0.9072\n",
      "Epoch 39/50\n",
      "2109/2109 [==============================] - 8s 4ms/step - loss: 0.2903 - Accuracy: 0.8823 - true_positives: 30629.0000 - false_negatives: 3107.0000 - recall: 0.9079\n",
      "Epoch 40/50\n",
      "2109/2109 [==============================] - 8s 4ms/step - loss: 0.2900 - Accuracy: 0.8827 - true_positives: 30585.0000 - false_negatives: 3151.0000 - recall: 0.9066\n",
      "Epoch 41/50\n",
      "2109/2109 [==============================] - 8s 4ms/step - loss: 0.2895 - Accuracy: 0.8822 - true_positives: 30593.0000 - false_negatives: 3143.0000 - recall: 0.9068\n",
      "Epoch 42/50\n",
      "2109/2109 [==============================] - 5s 3ms/step - loss: 0.2894 - Accuracy: 0.8822 - true_positives: 30623.0000 - false_negatives: 3113.0000 - recall: 0.9077\n",
      "Epoch 43/50\n",
      "2109/2109 [==============================] - 5s 2ms/step - loss: 0.2894 - Accuracy: 0.8828 - true_positives: 30633.0000 - false_negatives: 3103.0000 - recall: 0.9080\n",
      "Epoch 44/50\n",
      "2109/2109 [==============================] - 5s 2ms/step - loss: 0.2891 - Accuracy: 0.8829 - true_positives: 30638.0000 - false_negatives: 3098.0000 - recall: 0.9082\n",
      "Epoch 45/50\n",
      "2109/2109 [==============================] - 5s 2ms/step - loss: 0.2888 - Accuracy: 0.8826 - true_positives: 30611.0000 - false_negatives: 3125.0000 - recall: 0.9074\n",
      "Epoch 46/50\n",
      "2109/2109 [==============================] - 7s 3ms/step - loss: 0.2885 - Accuracy: 0.8833 - true_positives: 30691.0000 - false_negatives: 3045.0000 - recall: 0.9097\n",
      "Epoch 47/50\n",
      "2109/2109 [==============================] - 8s 4ms/step - loss: 0.2884 - Accuracy: 0.8837 - true_positives: 30643.0000 - false_negatives: 3093.0000 - recall: 0.9083\n",
      "Epoch 48/50\n",
      "2109/2109 [==============================] - 8s 4ms/step - loss: 0.2882 - Accuracy: 0.8831 - true_positives: 30649.0000 - false_negatives: 3087.0000 - recall: 0.9085\n",
      "Epoch 49/50\n",
      "2109/2109 [==============================] - 8s 4ms/step - loss: 0.2883 - Accuracy: 0.8828 - true_positives: 30650.0000 - false_negatives: 3086.0000 - recall: 0.9085\n",
      "Epoch 50/50\n",
      "2109/2109 [==============================] - 8s 4ms/step - loss: 0.2878 - Accuracy: 0.8830 - true_positives: 30683.0000 - false_negatives: 3053.0000 - recall: 0.9095\n"
     ]
    }
   ],
   "source": [
    "# Train the model\n",
    "fit_model = nn.fit(X_resampled_s, y_resampled_s,epochs = 50)"
   ]
  },
  {
   "cell_type": "code",
   "execution_count": 13,
   "id": "8abbd58f",
   "metadata": {},
   "outputs": [
    {
     "name": "stdout",
     "output_type": "stream",
     "text": [
      "391/391 - 2s - loss: 0.3628 - Accuracy: 0.8501 - true_positives: 1069.0000 - false_negatives: 186.0000 - recall: 0.8518 - 2s/epoch - 6ms/step\n",
      "[0.3627903461456299, 0.8500800132751465, 1069.0, 186.0, 0.8517928123474121]\n"
     ]
    }
   ],
   "source": [
    "# Evaluate the model using the test data : Recall: tp/(tp+fn) 0.829236\n",
    "results = nn.evaluate(X_test_scaled,y_test,verbose=2)\n",
    "print(results)\n",
    "# print(f\"Loss: {model_loss}, Accuracy: {model_accuracy}\")"
   ]
  },
  {
   "cell_type": "code",
   "execution_count": null,
   "id": "6a12948b",
   "metadata": {},
   "outputs": [],
   "source": [
    "# # # Create a method that creates a new Sequential model with hyperparameter options\n",
    "# def create_model(hp):\n",
    "#     nn_model = tf.keras.models.Sequential()\n",
    "\n",
    "#     # Allow kerastuner to decide which activation function to use in hidden layers\n",
    "#     activation = hp.Choice('activation',['relu','tanh','sigmoid'])\n",
    "#     first_units = hp.Int('first_units', min_value=1, max_value=10, step=2)\n",
    "    \n",
    "#     # Allow kerastuner to decide number of neurons in first layer\n",
    "#     nn_model.add(tf.keras.layers.Dense(units=first_units, activation=activation, input_dim=len(X_train_scaled[0])))\n",
    "\n",
    "#     # Allow kerastuner to decide number of hidden layers and neurons in hidden layers\n",
    "#     for i in range(hp.Int('num_layers', 1, 6)):\n",
    "#         next_units = hp.Int('units_' + str(i), min_value=1, max_value=10, step=2)\n",
    "\n",
    "#         nn_model.add(tf.keras.layers.Dense(units=next_units, activation=activation))\n",
    "    \n",
    "#     nn_model.add(tf.keras.layers.Dense(units=1, activation=\"sigmoid\"))\n",
    "\n",
    "#     # Compile the model\n",
    "#     nn_model.compile(loss=\"binary_crossentropy\", optimizer='adam', metrics=[\"Accuracy\"])\n",
    "\n",
    "#     return nn_model"
   ]
  },
  {
   "cell_type": "code",
   "execution_count": null,
   "id": "762760a0",
   "metadata": {},
   "outputs": [],
   "source": [
    "# import keras_tuner as kt\n",
    "\n",
    "# tuner = kt.Hyperband(\n",
    "#     create_model, # function name\n",
    "#     objective=\"val_accuracy\",\n",
    "#     max_epochs=20,\n",
    "#     hyperband_iterations=2)"
   ]
  },
  {
   "cell_type": "code",
   "execution_count": null,
   "id": "f6547f26",
   "metadata": {},
   "outputs": [],
   "source": [
    "# # Run the kerastuner search for best hyperparameters\n",
    "# tuner.search(X_resampled_s, y_resampled_s,epochs=20,validation_data=(X_test_scaled,y_test))"
   ]
  },
  {
   "cell_type": "code",
   "execution_count": null,
   "id": "79334834",
   "metadata": {},
   "outputs": [],
   "source": [
    "# # Get best model hyperparameters\n",
    "# best_hyper = tuner.get_best_hyperparameters(1)[0]\n",
    "# best_hyper.values"
   ]
  },
  {
   "cell_type": "code",
   "execution_count": null,
   "id": "d6e5b353",
   "metadata": {},
   "outputs": [],
   "source": [
    "# best_model = tuner.get_best_models(1)[0]\n",
    "# fit_model = best_model.fit(X_resampled_s, y_resampled_s, epochs=20)"
   ]
  },
  {
   "cell_type": "code",
   "execution_count": null,
   "id": "b6af7cde",
   "metadata": {},
   "outputs": [],
   "source": [
    "# # Evaluate best model against full test data\n",
    "# model_loss, model_accuracy = best_model.evaluate(X_test_scaled,y_test,verbose=2)\n",
    "# print(f\"Loss: {model_loss}, Accuracy: {model_accuracy}\")"
   ]
  },
  {
   "cell_type": "code",
   "execution_count": null,
   "id": "0769c9a4",
   "metadata": {},
   "outputs": [],
   "source": []
  }
 ],
 "metadata": {
  "kernelspec": {
   "display_name": "mlenv",
   "language": "python",
   "name": "mlenv"
  },
  "language_info": {
   "codemirror_mode": {
    "name": "ipython",
    "version": 3
   },
   "file_extension": ".py",
   "mimetype": "text/x-python",
   "name": "python",
   "nbconvert_exporter": "python",
   "pygments_lexer": "ipython3",
   "version": "3.7.13"
  }
 },
 "nbformat": 4,
 "nbformat_minor": 5
}
