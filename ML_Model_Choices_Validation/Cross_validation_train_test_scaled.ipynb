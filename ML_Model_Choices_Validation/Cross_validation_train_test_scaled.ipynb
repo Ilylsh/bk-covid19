{
 "cells": [
  {
   "cell_type": "markdown",
   "id": "1447ade7-92a4-4158-b9fc-c7f7501430fc",
   "metadata": {},
   "source": [
    "# COVID_Patient_Classifier_CV_Scaled"
   ]
  },
  {
   "cell_type": "code",
   "execution_count": 1,
   "id": "0bb4cac1-3576-49a3-8784-234a81a655b7",
   "metadata": {},
   "outputs": [],
   "source": [
    "# Compare Algorithms\n",
    "import pandas as pd\n",
    "from matplotlib import pyplot\n",
    "from sklearn.model_selection import KFold\n",
    "from sklearn.model_selection import cross_val_score\n",
    "from sklearn.linear_model import LogisticRegression\n",
    "from sklearn.tree import DecisionTreeClassifier\n",
    "from sklearn.neighbors import KNeighborsClassifier\n",
    "from sklearn.ensemble import RandomForestClassifier\n",
    "from imblearn.ensemble import EasyEnsembleClassifier\n",
    "from sklearn.discriminant_analysis import LinearDiscriminantAnalysis\n",
    "from imblearn.ensemble import BalancedRandomForestClassifier\n",
    "from sklearn.svm import SVC\n",
    "from sklearn.ensemble import GradientBoostingClassifier\n",
    "import warnings\n",
    "warnings.filterwarnings('ignore')\n",
    "from sklearn.naive_bayes import GaussianNB\n",
    "from sklearn.svm import SVC"
   ]
  },
  {
   "cell_type": "code",
   "execution_count": 2,
   "id": "d342cb11-3b23-4520-a4ad-f90d8f5c1925",
   "metadata": {},
   "outputs": [
    {
     "data": {
      "text/html": [
       "<div>\n",
       "<style scoped>\n",
       "    .dataframe tbody tr th:only-of-type {\n",
       "        vertical-align: middle;\n",
       "    }\n",
       "\n",
       "    .dataframe tbody tr th {\n",
       "        vertical-align: top;\n",
       "    }\n",
       "\n",
       "    .dataframe thead th {\n",
       "        text-align: right;\n",
       "    }\n",
       "</style>\n",
       "<table border=\"1\" class=\"dataframe\">\n",
       "  <thead>\n",
       "    <tr style=\"text-align: right;\">\n",
       "      <th></th>\n",
       "      <th>gender</th>\n",
       "      <th>pneumonia</th>\n",
       "      <th>pregnant</th>\n",
       "      <th>diabetes</th>\n",
       "      <th>copd</th>\n",
       "      <th>asthma</th>\n",
       "      <th>immunosup</th>\n",
       "      <th>hypertension</th>\n",
       "      <th>cardiovascular</th>\n",
       "      <th>obesity</th>\n",
       "      <th>renal_chronic</th>\n",
       "      <th>tobacco</th>\n",
       "      <th>closed_contact</th>\n",
       "      <th>another_complication</th>\n",
       "      <th>death</th>\n",
       "      <th>intubation</th>\n",
       "      <th>ICU</th>\n",
       "      <th>new_age</th>\n",
       "    </tr>\n",
       "  </thead>\n",
       "  <tbody>\n",
       "    <tr>\n",
       "      <th>296562</th>\n",
       "      <td>0</td>\n",
       "      <td>0</td>\n",
       "      <td>0</td>\n",
       "      <td>0</td>\n",
       "      <td>0</td>\n",
       "      <td>0</td>\n",
       "      <td>0</td>\n",
       "      <td>0</td>\n",
       "      <td>0</td>\n",
       "      <td>0</td>\n",
       "      <td>0</td>\n",
       "      <td>0</td>\n",
       "      <td>1</td>\n",
       "      <td>0</td>\n",
       "      <td>0</td>\n",
       "      <td>0</td>\n",
       "      <td>0</td>\n",
       "      <td>2</td>\n",
       "    </tr>\n",
       "    <tr>\n",
       "      <th>362289</th>\n",
       "      <td>0</td>\n",
       "      <td>0</td>\n",
       "      <td>0</td>\n",
       "      <td>0</td>\n",
       "      <td>0</td>\n",
       "      <td>0</td>\n",
       "      <td>0</td>\n",
       "      <td>0</td>\n",
       "      <td>0</td>\n",
       "      <td>0</td>\n",
       "      <td>0</td>\n",
       "      <td>0</td>\n",
       "      <td>0</td>\n",
       "      <td>0</td>\n",
       "      <td>0</td>\n",
       "      <td>0</td>\n",
       "      <td>0</td>\n",
       "      <td>1</td>\n",
       "    </tr>\n",
       "    <tr>\n",
       "      <th>577557</th>\n",
       "      <td>0</td>\n",
       "      <td>0</td>\n",
       "      <td>0</td>\n",
       "      <td>0</td>\n",
       "      <td>0</td>\n",
       "      <td>0</td>\n",
       "      <td>0</td>\n",
       "      <td>1</td>\n",
       "      <td>0</td>\n",
       "      <td>0</td>\n",
       "      <td>0</td>\n",
       "      <td>0</td>\n",
       "      <td>0</td>\n",
       "      <td>0</td>\n",
       "      <td>0</td>\n",
       "      <td>0</td>\n",
       "      <td>0</td>\n",
       "      <td>2</td>\n",
       "    </tr>\n",
       "    <tr>\n",
       "      <th>388592</th>\n",
       "      <td>1</td>\n",
       "      <td>0</td>\n",
       "      <td>0</td>\n",
       "      <td>0</td>\n",
       "      <td>0</td>\n",
       "      <td>0</td>\n",
       "      <td>0</td>\n",
       "      <td>0</td>\n",
       "      <td>0</td>\n",
       "      <td>0</td>\n",
       "      <td>0</td>\n",
       "      <td>0</td>\n",
       "      <td>1</td>\n",
       "      <td>0</td>\n",
       "      <td>0</td>\n",
       "      <td>0</td>\n",
       "      <td>0</td>\n",
       "      <td>3</td>\n",
       "    </tr>\n",
       "    <tr>\n",
       "      <th>1365852</th>\n",
       "      <td>0</td>\n",
       "      <td>0</td>\n",
       "      <td>0</td>\n",
       "      <td>0</td>\n",
       "      <td>0</td>\n",
       "      <td>0</td>\n",
       "      <td>0</td>\n",
       "      <td>0</td>\n",
       "      <td>0</td>\n",
       "      <td>0</td>\n",
       "      <td>0</td>\n",
       "      <td>0</td>\n",
       "      <td>1</td>\n",
       "      <td>0</td>\n",
       "      <td>0</td>\n",
       "      <td>0</td>\n",
       "      <td>0</td>\n",
       "      <td>3</td>\n",
       "    </tr>\n",
       "  </tbody>\n",
       "</table>\n",
       "</div>"
      ],
      "text/plain": [
       "         gender  pneumonia  pregnant  diabetes  copd  asthma  immunosup  \\\n",
       "296562        0          0         0         0     0       0          0   \n",
       "362289        0          0         0         0     0       0          0   \n",
       "577557        0          0         0         0     0       0          0   \n",
       "388592        1          0         0         0     0       0          0   \n",
       "1365852       0          0         0         0     0       0          0   \n",
       "\n",
       "         hypertension  cardiovascular  obesity  renal_chronic  tobacco  \\\n",
       "296562              0               0        0              0        0   \n",
       "362289              0               0        0              0        0   \n",
       "577557              1               0        0              0        0   \n",
       "388592              0               0        0              0        0   \n",
       "1365852             0               0        0              0        0   \n",
       "\n",
       "         closed_contact  another_complication  death  intubation  ICU  new_age  \n",
       "296562                1                     0      0           0    0        2  \n",
       "362289                0                     0      0           0    0        1  \n",
       "577557                0                     0      0           0    0        2  \n",
       "388592                1                     0      0           0    0        3  \n",
       "1365852               1                     0      0           0    0        3  "
      ]
     },
     "execution_count": 2,
     "metadata": {},
     "output_type": "execute_result"
    }
   ],
   "source": [
    "# load dataset\n",
    "file = '../clean_ml_data_0625.csv'\n",
    "clean_df = pd.read_csv(file)\n",
    "clean_df = clean_df.sample(30000)\n",
    "clean_df.head()"
   ]
  },
  {
   "cell_type": "code",
   "execution_count": 3,
   "id": "0fa8358c",
   "metadata": {},
   "outputs": [],
   "source": [
    "# get the target column ['death'] and rest of the features, excluing death, ICU and Intubation\n",
    "y= clean_df['death']\n",
    "X = clean_df.drop(columns = ['ICU','intubation','death'])"
   ]
  },
  {
   "cell_type": "code",
   "execution_count": 4,
   "id": "9a225a4f",
   "metadata": {},
   "outputs": [
    {
     "data": {
      "text/plain": [
       "Index(['gender', 'pneumonia', 'pregnant', 'diabetes', 'copd', 'asthma',\n",
       "       'immunosup', 'hypertension', 'cardiovascular', 'obesity',\n",
       "       'renal_chronic', 'tobacco', 'closed_contact', 'another_complication',\n",
       "       'new_age'],\n",
       "      dtype='object')"
      ]
     },
     "execution_count": 4,
     "metadata": {},
     "output_type": "execute_result"
    }
   ],
   "source": [
    "# Check the X columns\n",
    "X.columns"
   ]
  },
  {
   "cell_type": "code",
   "execution_count": 5,
   "id": "ec32852c",
   "metadata": {},
   "outputs": [],
   "source": [
    "# Split the training and test dataset to fit the model\n",
    "from sklearn.model_selection import train_test_split\n",
    "X_train,X_test,y_train,y_test = train_test_split(X,y,random_state =42, stratify=y)"
   ]
  },
  {
   "cell_type": "code",
   "execution_count": 6,
   "id": "f81cc9c1",
   "metadata": {},
   "outputs": [],
   "source": [
    "from sklearn.preprocessing import StandardScaler\n",
    "# Creating StandardScaler instance\n",
    "scaler = StandardScaler()\n",
    "# Fitting standard scaler\n",
    "X_scaler = scaler.fit(X_train)\n",
    "\n",
    "# Scaling data\n",
    "X_train_scaled = X_scaler.transform(X_train)\n",
    "X_test_scaled = X_scaler.transform(X_test)"
   ]
  },
  {
   "cell_type": "code",
   "execution_count": 7,
   "id": "dc205f8f",
   "metadata": {},
   "outputs": [],
   "source": [
    "# # Resample the training data with SMOTE\n",
    "# from imblearn.over_sampling import SMOTE\n",
    "# X_resampled_s, y_resampled_s = SMOTE(random_state=1,\n",
    "# sampling_strategy='auto').fit_resample(X_train_scaled,y_train)\n",
    "# # Counter(y_resampled_s)"
   ]
  },
  {
   "cell_type": "code",
   "execution_count": 8,
   "id": "e0a48a5e-4f3f-463a-bf29-72a4f20506c0",
   "metadata": {},
   "outputs": [],
   "source": [
    "# prepare classifier models\n",
    "models = []\n",
    "models.append(('LR', LogisticRegression(max_iter=1000,solver='lbfgs', random_state=1)))\n",
    "models.append(('SVM', SVC(kernel='linear')))\n",
    "models.append(('LDA', LinearDiscriminantAnalysis()))\n",
    "models.append(('KNN', KNeighborsClassifier()))\n",
    "models.append(('CART', DecisionTreeClassifier()))\n",
    "models.append(('GBC', GradientBoostingClassifier(n_estimators=20,learning_rate=1,max_features=None,max_depth=3,random_state=0)))\n",
    "models.append(('NB', GaussianNB()))\n",
    "models.append(('RF2', RandomForestClassifier(max_depth=2, random_state=0)))\n",
    "models.append(('RF4', RandomForestClassifier(max_depth=4, random_state=0)))\n",
    "models.append(('RF6', RandomForestClassifier(max_depth=6, random_state=0)))\n",
    "models.append(('EEC', EasyEnsembleClassifier(random_state=1,n_estimators = 100)))\n",
    "models.append(('brfc', BalancedRandomForestClassifier(n_estimators=100, random_state=42)))"
   ]
  },
  {
   "cell_type": "code",
   "execution_count": 9,
   "id": "b5ea55a7-1593-4bc9-b3be-373e8690ff76",
   "metadata": {},
   "outputs": [
    {
     "name": "stdout",
     "output_type": "stream",
     "text": [
      "LR: 0.449914 (0.037664)\n",
      "SVM: 0.457667 (0.039255)\n",
      "LDA: 0.714397 (0.025378)\n",
      "KNN: 0.451479 (0.036309)\n",
      "CART: 0.428034 (0.043066)\n",
      "GBC: 0.509191 (0.141772)\n",
      "NB: 0.619137 (0.030667)\n",
      "RF2: 0.000000 (0.000000)\n",
      "RF4: 0.121923 (0.016719)\n",
      "RF6: 0.290147 (0.066225)\n",
      "EEC: 0.844378 (0.022394)\n",
      "brfc: 0.873725 (0.015895)\n"
     ]
    }
   ],
   "source": [
    "# evaluate each model in turn\n",
    "results = []\n",
    "names = []\n",
    "scoring = 'recall'\n",
    "\n",
    "for name, model in models:\n",
    "    kfold = KFold(n_splits=10)\n",
    "    cv_results = cross_val_score(model, X_train_scaled, y_train, cv=kfold, scoring=scoring)\n",
    "    results.append(cv_results)\n",
    "    names.append(name)\n",
    "    msg = \"%s: %f (%f)\" % (name, cv_results.mean(), cv_results.std())\n",
    "    print(msg)"
   ]
  },
  {
   "cell_type": "code",
   "execution_count": null,
   "id": "3fcac64b",
   "metadata": {},
   "outputs": [],
   "source": [
    "# # prepare classifier models\n",
    "# models1 = []\n",
    "# models1.append(('EEC', EasyEnsembleClassifier(random_state=1,n_estimators = 100)))\n",
    "# models1.append(('brfc', BalancedRandomForestClassifier(n_estimators=100, random_state=42)))"
   ]
  },
  {
   "cell_type": "code",
   "execution_count": null,
   "id": "9f9fcf53",
   "metadata": {},
   "outputs": [],
   "source": [
    "# # evaluate each model in turn\n",
    "# results = []\n",
    "# names = []\n",
    "# scoring = 'balanced_accuracy'\n",
    "\n",
    "# for name, model in models1:\n",
    "#     kfold = KFold(n_splits=10)\n",
    "#     cv_results = cross_val_score(model, X_train_scaled, y_train, cv=kfold, scoring=scoring)\n",
    "#     results.append(cv_results)\n",
    "#     names.append(name)\n",
    "#     msg = \"%s: %f (%f)\" % (name, cv_results.mean(), cv_results.std())\n",
    "#     print(msg)"
   ]
  },
  {
   "cell_type": "code",
   "execution_count": 11,
   "id": "1f0d6a76-141a-4f47-98f2-6a2dbf92bab7",
   "metadata": {},
   "outputs": [
    {
     "data": {
      "image/png": "[encoded data removed]",
      "text/plain": [
       "<Figure size 432x288 with 1 Axes>"
      ]
     },
     "metadata": {
      "needs_background": "light"
     },
     "output_type": "display_data"
    }
   ],
   "source": [
    "# boxplot algorithm comparison\n",
    "fig = pyplot.figure()\n",
    "fig.suptitle('Scaled + Algorithm Comparison')\n",
    "ax = fig.add_subplot(111)\n",
    "pyplot.boxplot(results)\n",
    "ax.set_xticklabels(names)\n",
    "pyplot.show()"
   ]
  }
 ],
 "metadata": {
  "kernelspec": {
   "display_name": "mlenv",
   "language": "python",
   "name": "mlenv"
  },
  "language_info": {
   "codemirror_mode": {
    "name": "ipython",
    "version": 3
   },
   "file_extension": ".py",
   "mimetype": "text/x-python",
   "name": "python",
   "nbconvert_exporter": "python",
   "pygments_lexer": "ipython3",
   "version": "3.7.13"
  }
 },
 "nbformat": 4,
 "nbformat_minor": 5
}
