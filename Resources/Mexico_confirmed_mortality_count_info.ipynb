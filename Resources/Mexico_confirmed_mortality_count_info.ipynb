{
 "cells": [
  {
   "cell_type": "code",
   "execution_count": 26,
   "id": "343e9b15",
   "metadata": {},
   "outputs": [],
   "source": [
    "# Initial imports\n",
    "import pandas as pd\n",
    "from pathlib import Path\n",
    "import matplotlib.pyplot as plt\n",
    "from collections import Counter"
   ]
  },
  {
   "cell_type": "code",
   "execution_count": 27,
   "id": "92a31b9e",
   "metadata": {},
   "outputs": [
    {
     "name": "stdout",
     "output_type": "stream",
     "text": [
      "<class 'pandas.core.frame.DataFrame'>\n",
      "RangeIndex: 33 entries, 0 to 32\n",
      "Data columns (total 7 columns):\n",
      " #   Column                  Non-Null Count  Dtype  \n",
      "---  ------                  --------------  -----  \n",
      " 0   No.                     33 non-null     int64  \n",
      " 1   population              33 non-null     int64  \n",
      " 2   State                   33 non-null     object \n",
      " 3   No. of confirmed cases  33 non-null     int64  \n",
      " 4   Mortality Count         33 non-null     int64  \n",
      " 5   Latitude                32 non-null     float64\n",
      " 6   Longitude               32 non-null     float64\n",
      "dtypes: float64(2), int64(4), object(1)\n",
      "memory usage: 1.9+ KB\n"
     ]
    }
   ],
   "source": [
    "df = pd.read_csv(\"Mexico_Cases_Daily_State_National_Confirmed.csv\")\n",
    "df.info()"
   ]
  },
  {
   "cell_type": "code",
   "execution_count": 28,
   "id": "a8df17d3",
   "metadata": {},
   "outputs": [
    {
     "data": {
      "text/html": [
       "<div>\n",
       "<style scoped>\n",
       "    .dataframe tbody tr th:only-of-type {\n",
       "        vertical-align: middle;\n",
       "    }\n",
       "\n",
       "    .dataframe tbody tr th {\n",
       "        vertical-align: top;\n",
       "    }\n",
       "\n",
       "    .dataframe thead th {\n",
       "        text-align: right;\n",
       "    }\n",
       "</style>\n",
       "<table border=\"1\" class=\"dataframe\">\n",
       "  <thead>\n",
       "    <tr style=\"text-align: right;\">\n",
       "      <th></th>\n",
       "      <th>No.</th>\n",
       "      <th>population</th>\n",
       "      <th>State</th>\n",
       "      <th>No. of confirmed cases</th>\n",
       "      <th>Mortality Count</th>\n",
       "      <th>Latitude</th>\n",
       "      <th>Longitude</th>\n",
       "    </tr>\n",
       "  </thead>\n",
       "  <tbody>\n",
       "    <tr>\n",
       "      <th>0</th>\n",
       "      <td>0</td>\n",
       "      <td>127792286</td>\n",
       "      <td>Nacional</td>\n",
       "      <td>5833738</td>\n",
       "      <td>325242</td>\n",
       "      <td>NaN</td>\n",
       "      <td>NaN</td>\n",
       "    </tr>\n",
       "    <tr>\n",
       "      <th>1</th>\n",
       "      <td>1</td>\n",
       "      <td>1434635</td>\n",
       "      <td>Aguascalientes</td>\n",
       "      <td>68338</td>\n",
       "      <td>3518</td>\n",
       "      <td>21.879460</td>\n",
       "      <td>-102.290413</td>\n",
       "    </tr>\n",
       "    <tr>\n",
       "      <th>2</th>\n",
       "      <td>2</td>\n",
       "      <td>3634868</td>\n",
       "      <td>Baja California</td>\n",
       "      <td>136259</td>\n",
       "      <td>12300</td>\n",
       "      <td>30.764051</td>\n",
       "      <td>-116.009260</td>\n",
       "    </tr>\n",
       "    <tr>\n",
       "      <th>3</th>\n",
       "      <td>3</td>\n",
       "      <td>804708</td>\n",
       "      <td>Baja California Sur</td>\n",
       "      <td>106770</td>\n",
       "      <td>2685</td>\n",
       "      <td>26.013333</td>\n",
       "      <td>-111.351664</td>\n",
       "    </tr>\n",
       "    <tr>\n",
       "      <th>4</th>\n",
       "      <td>4</td>\n",
       "      <td>1000617</td>\n",
       "      <td>Campeche</td>\n",
       "      <td>34679</td>\n",
       "      <td>2244</td>\n",
       "      <td>18.653659</td>\n",
       "      <td>-91.824480</td>\n",
       "    </tr>\n",
       "  </tbody>\n",
       "</table>\n",
       "</div>"
      ],
      "text/plain": [
       "   No.  population                 State  No. of confirmed cases  \\\n",
       "0    0   127792286              Nacional                 5833738   \n",
       "1    1     1434635       Aguascalientes                    68338   \n",
       "2    2     3634868      Baja California                   136259   \n",
       "3    3      804708  Baja California Sur                   106770   \n",
       "4    4     1000617             Campeche                    34679   \n",
       "\n",
       "   Mortality Count   Latitude   Longitude  \n",
       "0           325242        NaN         NaN  \n",
       "1             3518  21.879460 -102.290413  \n",
       "2            12300  30.764051 -116.009260  \n",
       "3             2685  26.013333 -111.351664  \n",
       "4             2244  18.653659  -91.824480  "
      ]
     },
     "execution_count": 28,
     "metadata": {},
     "output_type": "execute_result"
    }
   ],
   "source": [
    "df.head()"
   ]
  },
  {
   "cell_type": "code",
   "execution_count": null,
   "id": "292a9dba",
   "metadata": {},
   "outputs": [],
   "source": []
  }
 ],
 "metadata": {
  "kernelspec": {
   "display_name": "Python 3",
   "language": "python",
   "name": "python3"
  },
  "language_info": {
   "codemirror_mode": {
    "name": "ipython",
    "version": 3
   },
   "file_extension": ".py",
   "mimetype": "text/x-python",
   "name": "python",
   "nbconvert_exporter": "python",
   "pygments_lexer": "ipython3",
   "version": "3.6.13"
  }
 },
 "nbformat": 4,
 "nbformat_minor": 5
}
