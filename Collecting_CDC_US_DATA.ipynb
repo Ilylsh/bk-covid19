{
 "cells": [
  {
   "cell_type": "code",
   "execution_count": 2,
   "id": "e195991d",
   "metadata": {},
   "outputs": [
    {
     "name": "stdout",
     "output_type": "stream",
     "text": [
      "Collecting sodapy\n",
      "  Downloading sodapy-2.1.1-py2.py3-none-any.whl (14 kB)\n",
      "Requirement already satisfied: requests>=2.20.0 in c:\\users\\safaa\\appdata\\local\\programs\\python\\python37\\lib\\site-packages (from sodapy) (2.27.1)\n",
      "Requirement already satisfied: certifi>=2017.4.17 in c:\\users\\safaa\\appdata\\local\\programs\\python\\python37\\lib\\site-packages (from requests>=2.20.0->sodapy) (2021.10.8)\n",
      "Requirement already satisfied: charset-normalizer~=2.0.0 in c:\\users\\safaa\\appdata\\local\\programs\\python\\python37\\lib\\site-packages (from requests>=2.20.0->sodapy) (2.0.12)\n",
      "Requirement already satisfied: urllib3<1.27,>=1.21.1 in c:\\users\\safaa\\appdata\\local\\programs\\python\\python37\\lib\\site-packages (from requests>=2.20.0->sodapy) (1.26.9)\n",
      "Requirement already satisfied: idna<4,>=2.5 in c:\\users\\safaa\\appdata\\local\\programs\\python\\python37\\lib\\site-packages (from requests>=2.20.0->sodapy) (3.3)\n",
      "Installing collected packages: sodapy\n",
      "Successfully installed sodapy-2.1.1\n"
     ]
    }
   ],
   "source": [
    "# make sure to install these packages before running:\n",
    "!pip install sodapy"
   ]
  },
  {
   "cell_type": "code",
   "execution_count": 2,
   "id": "c65b09d7",
   "metadata": {},
   "outputs": [
    {
     "name": "stderr",
     "output_type": "stream",
     "text": [
      "WARNING:root:Requests made without an app_token will be subject to strict throttling limits.\n"
     ]
    }
   ],
   "source": [
    "import pandas as pd\n",
    "from sodapy import Socrata\n",
    "\n",
    "# Unauthenticated client only works with public data sets. Note 'None'\n",
    "# in place of application token, and no username or password:\n",
    "client = Socrata(\"data.cdc.gov\", None)\n",
    "\n",
    "# Example authenticated client (needed for non-public datasets):\n",
    "# client = Socrata(data.cdc.gov,\n",
    "#                  MyAppToken,\n",
    "#                  userame=\"user@example.com\",\n",
    "#                  password=\"AFakePassword\")\n",
    "\n",
    "# First 2000 results, returned as JSON from API / converted to Python list of\n",
    "# dictionaries by sodapy.\n",
    "results = client.get(\"vbim-akqf\", limit=2000)\n",
    "\n",
    "# Convert to pandas DataFrame\n",
    "results_df = pd.DataFrame.from_records(results)"
   ]
  },
  {
   "cell_type": "code",
   "execution_count": 3,
   "id": "1a895f67",
   "metadata": {},
   "outputs": [
    {
     "data": {
      "text/html": [
       "<div>\n",
       "<style scoped>\n",
       "    .dataframe tbody tr th:only-of-type {\n",
       "        vertical-align: middle;\n",
       "    }\n",
       "\n",
       "    .dataframe tbody tr th {\n",
       "        vertical-align: top;\n",
       "    }\n",
       "\n",
       "    .dataframe thead th {\n",
       "        text-align: right;\n",
       "    }\n",
       "</style>\n",
       "<table border=\"1\" class=\"dataframe\">\n",
       "  <thead>\n",
       "    <tr style=\"text-align: right;\">\n",
       "      <th></th>\n",
       "      <th>cdc_case_earliest_dt</th>\n",
       "      <th>cdc_report_dt</th>\n",
       "      <th>pos_spec_dt</th>\n",
       "      <th>current_status</th>\n",
       "      <th>sex</th>\n",
       "      <th>age_group</th>\n",
       "      <th>race_ethnicity_combined</th>\n",
       "      <th>hosp_yn</th>\n",
       "      <th>icu_yn</th>\n",
       "      <th>death_yn</th>\n",
       "      <th>medcond_yn</th>\n",
       "      <th>onset_dt</th>\n",
       "    </tr>\n",
       "  </thead>\n",
       "  <tbody>\n",
       "    <tr>\n",
       "      <th>0</th>\n",
       "      <td>2022-01-08T00:00:00.000</td>\n",
       "      <td>2022-01-08T00:00:00.000</td>\n",
       "      <td>2022-01-08T00:00:00.000</td>\n",
       "      <td>Laboratory-confirmed case</td>\n",
       "      <td>Male</td>\n",
       "      <td>20 - 29 Years</td>\n",
       "      <td>Hispanic/Latino</td>\n",
       "      <td>Unknown</td>\n",
       "      <td>Unknown</td>\n",
       "      <td>No</td>\n",
       "      <td>Unknown</td>\n",
       "      <td>NaN</td>\n",
       "    </tr>\n",
       "    <tr>\n",
       "      <th>1</th>\n",
       "      <td>2020-12-26T00:00:00.000</td>\n",
       "      <td>NaN</td>\n",
       "      <td>NaN</td>\n",
       "      <td>Laboratory-confirmed case</td>\n",
       "      <td>Male</td>\n",
       "      <td>20 - 29 Years</td>\n",
       "      <td>Hispanic/Latino</td>\n",
       "      <td>Missing</td>\n",
       "      <td>Missing</td>\n",
       "      <td>Missing</td>\n",
       "      <td>Missing</td>\n",
       "      <td>NaN</td>\n",
       "    </tr>\n",
       "    <tr>\n",
       "      <th>2</th>\n",
       "      <td>2021-08-13T00:00:00.000</td>\n",
       "      <td>2021-08-18T00:00:00.000</td>\n",
       "      <td>NaN</td>\n",
       "      <td>Laboratory-confirmed case</td>\n",
       "      <td>Male</td>\n",
       "      <td>20 - 29 Years</td>\n",
       "      <td>Hispanic/Latino</td>\n",
       "      <td>No</td>\n",
       "      <td>Missing</td>\n",
       "      <td>No</td>\n",
       "      <td>Missing</td>\n",
       "      <td>2021-08-13T00:00:00.000</td>\n",
       "    </tr>\n",
       "    <tr>\n",
       "      <th>3</th>\n",
       "      <td>2020-09-12T00:00:00.000</td>\n",
       "      <td>NaN</td>\n",
       "      <td>NaN</td>\n",
       "      <td>Laboratory-confirmed case</td>\n",
       "      <td>Male</td>\n",
       "      <td>20 - 29 Years</td>\n",
       "      <td>Hispanic/Latino</td>\n",
       "      <td>No</td>\n",
       "      <td>Missing</td>\n",
       "      <td>Missing</td>\n",
       "      <td>Missing</td>\n",
       "      <td>NaN</td>\n",
       "    </tr>\n",
       "    <tr>\n",
       "      <th>4</th>\n",
       "      <td>2020-12-06T00:00:00.000</td>\n",
       "      <td>2020-12-06T00:00:00.000</td>\n",
       "      <td>2020-12-06T00:00:00.000</td>\n",
       "      <td>Laboratory-confirmed case</td>\n",
       "      <td>Male</td>\n",
       "      <td>20 - 29 Years</td>\n",
       "      <td>Hispanic/Latino</td>\n",
       "      <td>Unknown</td>\n",
       "      <td>Unknown</td>\n",
       "      <td>No</td>\n",
       "      <td>Unknown</td>\n",
       "      <td>NaN</td>\n",
       "    </tr>\n",
       "  </tbody>\n",
       "</table>\n",
       "</div>"
      ],
      "text/plain": [
       "      cdc_case_earliest_dt            cdc_report_dt              pos_spec_dt  \\\n",
       "0  2022-01-08T00:00:00.000  2022-01-08T00:00:00.000  2022-01-08T00:00:00.000   \n",
       "1  2020-12-26T00:00:00.000                      NaN                      NaN   \n",
       "2  2021-08-13T00:00:00.000  2021-08-18T00:00:00.000                      NaN   \n",
       "3  2020-09-12T00:00:00.000                      NaN                      NaN   \n",
       "4  2020-12-06T00:00:00.000  2020-12-06T00:00:00.000  2020-12-06T00:00:00.000   \n",
       "\n",
       "              current_status   sex      age_group race_ethnicity_combined  \\\n",
       "0  Laboratory-confirmed case  Male  20 - 29 Years         Hispanic/Latino   \n",
       "1  Laboratory-confirmed case  Male  20 - 29 Years         Hispanic/Latino   \n",
       "2  Laboratory-confirmed case  Male  20 - 29 Years         Hispanic/Latino   \n",
       "3  Laboratory-confirmed case  Male  20 - 29 Years         Hispanic/Latino   \n",
       "4  Laboratory-confirmed case  Male  20 - 29 Years         Hispanic/Latino   \n",
       "\n",
       "   hosp_yn   icu_yn death_yn medcond_yn                 onset_dt  \n",
       "0  Unknown  Unknown       No    Unknown                      NaN  \n",
       "1  Missing  Missing  Missing    Missing                      NaN  \n",
       "2       No  Missing       No    Missing  2021-08-13T00:00:00.000  \n",
       "3       No  Missing  Missing    Missing                      NaN  \n",
       "4  Unknown  Unknown       No    Unknown                      NaN  "
      ]
     },
     "execution_count": 3,
     "metadata": {},
     "output_type": "execute_result"
    }
   ],
   "source": [
    "results_df.head()"
   ]
  },
  {
   "cell_type": "code",
   "execution_count": 4,
   "id": "29ad39f3",
   "metadata": {},
   "outputs": [],
   "source": [
    "# Saving clean data\n",
    "file_path = (\"US_Demographic_Data.csv\")\n",
    "results_df.to_csv(file_path, index=False)"
   ]
  },
  {
   "cell_type": "code",
   "execution_count": 7,
   "id": "66d03ec2",
   "metadata": {},
   "outputs": [
    {
     "data": {
      "text/plain": [
       "array(['Hispanic/Latino'], dtype=object)"
      ]
     },
     "execution_count": 7,
     "metadata": {},
     "output_type": "execute_result"
    }
   ],
   "source": [
    "results_df['race_ethnicity_combined'].unique()"
   ]
  }
 ],
 "metadata": {
  "kernelspec": {
   "display_name": "PythonData",
   "language": "python",
   "name": "pythondata"
  },
  "language_info": {
   "codemirror_mode": {
    "name": "ipython",
    "version": 3
   },
   "file_extension": ".py",
   "mimetype": "text/x-python",
   "name": "python",
   "nbconvert_exporter": "python",
   "pygments_lexer": "ipython3",
   "version": "3.7.11"
  }
 },
 "nbformat": 4,
 "nbformat_minor": 5
}
