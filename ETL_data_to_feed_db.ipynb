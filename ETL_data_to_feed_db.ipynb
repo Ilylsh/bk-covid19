{
  "cells": [
    {
      "cell_type": "markdown",
      "metadata": {
        "id": "view-in-github",
        "colab_type": "text"
      },
      "source": [
        "<a href=\"https://colab.research.google.com/github/lindaperez/bk-covid19/blob/lperez_scraping/ETL_data_to_feed_db.ipynb\" target=\"_parent\"><img src=\"https://colab.research.google.com/assets/colab-badge.svg\" alt=\"Open In Colab\"/></a>"
      ]
    },
    {
      "cell_type": "markdown",
      "source": [
        "# Scraping:\n",
        "*Web scraping is a term for various methods used to collect information from across the Internet. Generally, this is done with software that simulates human Web surfing to collect specified bits of information from different websites.*"
      ],
      "metadata": {
        "id": "G7Z177q7BtG4"
      }
    },
    {
      "cell_type": "markdown",
      "source": [
        "Purpose: This file will update the database covid_db adding new patients and overwriting patients that already exist. This file will run from a cron demond every day at 11:00 PM PDT. "
      ],
      "metadata": {
        "id": "L_2LZpzRBTfq"
      }
    },
    {
      "cell_type": "markdown",
      "source": [
        "### Installing Spark, Postgresql, Defining Environment Variables"
      ],
      "metadata": {
        "id": "EXWLYah7Ahia"
      }
    },
    {
      "cell_type": "code",
      "execution_count": 5,
      "metadata": {
        "colab": {
          "base_uri": "https://localhost:8080/"
        },
        "id": "D27U2wh07f1c",
        "outputId": "fa35a001-191c-47ce-dd63-2c29ac8fc7d7"
      },
      "outputs": [
        {
          "output_type": "stream",
          "name": "stdout",
          "text": [
            "\r0% [Working]\r            \rHit:1 https://developer.download.nvidia.com/compute/cuda/repos/ubuntu1804/x86_64  InRelease\n",
            "\r0% [Connecting to archive.ubuntu.com] [Connecting to security.ubuntu.com (185.1\r0% [1 InRelease gpgv 1,581 B] [Connecting to archive.ubuntu.com] [Connecting to\r                                                                               \rHit:2 https://cloud.r-project.org/bin/linux/ubuntu bionic-cran40/ InRelease\n",
            "\r0% [1 InRelease gpgv 1,581 B] [Connecting to archive.ubuntu.com] [Connecting to\r                                                                               \rIgn:3 https://developer.download.nvidia.com/compute/machine-learning/repos/ubuntu1804/x86_64  InRelease\n",
            "Hit:4 https://developer.download.nvidia.com/compute/machine-learning/repos/ubuntu1804/x86_64  Release\n",
            "Hit:5 http://archive.ubuntu.com/ubuntu bionic InRelease\n",
            "Get:6 http://security.ubuntu.com/ubuntu bionic-security InRelease [88.7 kB]\n",
            "Hit:7 http://ppa.launchpad.net/c2d4u.team/c2d4u4.0+/ubuntu bionic InRelease\n",
            "Get:8 http://archive.ubuntu.com/ubuntu bionic-updates InRelease [88.7 kB]\n",
            "Hit:9 http://ppa.launchpad.net/cran/libgit2/ubuntu bionic InRelease\n",
            "Get:10 http://archive.ubuntu.com/ubuntu bionic-backports InRelease [74.6 kB]\n",
            "Hit:11 http://ppa.launchpad.net/deadsnakes/ppa/ubuntu bionic InRelease\n",
            "Hit:13 http://ppa.launchpad.net/graphics-drivers/ppa/ubuntu bionic InRelease\n",
            "Fetched 252 kB in 3s (95.3 kB/s)\n",
            "Reading package lists... Done\n"
          ]
        }
      ],
      "source": [
        "import os\n",
        "# Find the latest version of spark 3.0  from http://www.apache.org/dist/spark/ and enter as the spark version\n",
        "# For example:\n",
        "spark_version = 'spark-3.0.3'\n",
        "#spark_version = 'spark-3.<enter version>'\n",
        "os.environ['SPARK_VERSION']=spark_version\n",
        "\n",
        "# Install Spark and Java\n",
        "!apt-get update\n",
        "!apt-get install openjdk-11-jdk-headless -qq > /dev/null\n",
        "!wget -q http://www.apache.org/dist/spark/$SPARK_VERSION/$SPARK_VERSION-bin-hadoop2.7.tgz\n",
        "!tar xf $SPARK_VERSION-bin-hadoop2.7.tgz\n",
        "!pip install -q findspark\n",
        "\n",
        "# Set Environment Variables\n",
        "import os\n",
        "os.environ[\"JAVA_HOME\"] = \"/usr/lib/jvm/java-11-openjdk-amd64\"\n",
        "os.environ[\"SPARK_HOME\"] = f\"/content/{spark_version}-bin-hadoop2.7\"\n",
        "\n",
        "# Start a SparkSession\n",
        "import findspark\n",
        "findspark.init()"
      ]
    },
    {
      "cell_type": "markdown",
      "source": [
        "### - Postgresql installation"
      ],
      "metadata": {
        "id": "eztuB3o0A9C6"
      }
    },
    {
      "cell_type": "code",
      "execution_count": 6,
      "metadata": {
        "colab": {
          "base_uri": "https://localhost:8080/"
        },
        "id": "j5GhARnN7v7E",
        "outputId": "800d766b-a0a2-40a5-d109-04364b12ace9"
      },
      "outputs": [
        {
          "output_type": "stream",
          "name": "stdout",
          "text": [
            "--2022-07-03 18:17:37--  https://jdbc.postgresql.org/download/postgresql-42.2.16.jar\n",
            "Resolving jdbc.postgresql.org (jdbc.postgresql.org)... 72.32.157.228, 2001:4800:3e1:1::228\n",
            "Connecting to jdbc.postgresql.org (jdbc.postgresql.org)|72.32.157.228|:443... connected.\n",
            "HTTP request sent, awaiting response... 200 OK\n",
            "Length: 1002883 (979K) [application/java-archive]\n",
            "Saving to: ‘postgresql-42.2.16.jar.1’\n",
            "\n",
            "postgresql-42.2.16. 100%[===================>] 979.38K  4.97MB/s    in 0.2s    \n",
            "\n",
            "2022-07-03 18:17:38 (4.97 MB/s) - ‘postgresql-42.2.16.jar.1’ saved [1002883/1002883]\n",
            "\n"
          ]
        }
      ],
      "source": [
        "# Download the Postgres driver that will allow Spark to interact with Postgres.\n",
        "!wget https://jdbc.postgresql.org/download/postgresql-42.2.16.jar"
      ]
    },
    {
      "cell_type": "markdown",
      "source": [
        "### - Creating Spark Session"
      ],
      "metadata": {
        "id": "wkuwCoCKBCz5"
      }
    },
    {
      "cell_type": "code",
      "execution_count": 7,
      "metadata": {
        "id": "IfATz_wN7xEU"
      },
      "outputs": [],
      "source": [
        "from pyspark.sql import SparkSession\n",
        "from pyspark.sql.functions import col,regexp_replace\n",
        "spark = SparkSession.builder.appName(\"download_data_to_feed_db\").config(\"spark.driver.extraClassPath\",\"/content/postgresql-42.2.16.jar\").getOrCreate()"
      ]
    },
    {
      "cell_type": "markdown",
      "source": [
        "### - Installing library to upzip the file"
      ],
      "metadata": {
        "id": "r9IbMZuHDAYx"
      }
    },
    {
      "cell_type": "code",
      "execution_count": 8,
      "metadata": {
        "colab": {
          "base_uri": "https://localhost:8080/"
        },
        "id": "3HiJZoeK9VeU",
        "outputId": "048c15be-9daa-46da-a79c-7d4d412c6350"
      },
      "outputs": [
        {
          "output_type": "stream",
          "name": "stdout",
          "text": [
            "Looking in indexes: https://pypi.org/simple, https://us-python.pkg.dev/colab-wheels/public/simple/\n",
            "Requirement already satisfied: zipfile_deflate64 in /usr/local/lib/python3.7/dist-packages (0.2.0)\n"
          ]
        }
      ],
      "source": [
        "!pip install zipfile_deflate64"
      ]
    },
    {
      "cell_type": "markdown",
      "source": [
        "## Scraping Process"
      ],
      "metadata": {
        "id": "yaxZ8qC9G_Ul"
      }
    },
    {
      "cell_type": "markdown",
      "source": [
        "### 1.- Download file from the website "
      ],
      "metadata": {
        "id": "pdvvoNuhE2QJ"
      }
    },
    {
      "cell_type": "code",
      "source": [
        "from pyspark import SparkFiles\n",
        "url = \"https://datosabiertos.salud.gob.mx/gobmx/salud/datos_abiertos/datos_abiertos_covid19.zip\"\n",
        "spark.sparkContext.addFile(url)"
      ],
      "metadata": {
        "id": "dWfps4xnISRJ"
      },
      "execution_count": 9,
      "outputs": []
    },
    {
      "cell_type": "markdown",
      "source": [
        "## 2.- Unzip File "
      ],
      "metadata": {
        "id": "_Xh5ByMpIAlM"
      }
    },
    {
      "cell_type": "code",
      "execution_count": 11,
      "metadata": {
        "colab": {
          "base_uri": "https://localhost:8080/"
        },
        "id": "3prH8K7383lF",
        "outputId": "90ad96e8-8234-4a8c-ff96-d2872eb9356d"
      },
      "outputs": [
        {
          "output_type": "stream",
          "name": "stdout",
          "text": [
            "Archive:  /tmp/spark-8cb6e39e-5e19-4799-870e-6bfc9c06087d/userFiles-23ab1e78-1791-47a9-9ed3-688418d49d39/datos_abiertos_covid19.zip\n",
            "  inflating: datos_abiertos_new/220702COVID19MEXICO.csv  \n"
          ]
        }
      ],
      "source": [
        "file = SparkFiles.get(\"datos_abiertos_covid19.zip\")\n",
        "folder = 'datos_abiertos_new'\n",
        "!unzip -o \"$file\" -d \"$folder\""
      ]
    },
    {
      "cell_type": "markdown",
      "source": [
        "### 3.- Read the File unziped"
      ],
      "metadata": {
        "id": "DUTusyCLSbta"
      }
    },
    {
      "cell_type": "code",
      "source": [
        "# define the offset of the day to extract the data\n",
        "from datetime import date,timedelta\n",
        "today = date.today()- timedelta(days=1)\n",
        "day = today.strftime('%y%m%d')\n",
        "#Reading csv file using Pandas\n",
        "#import pandas as pd \n",
        "#df = pd.read_csv('datos_abiertos_new/'+day+'COVID19MEXICO.csv',low_memory=False,engine='c')\n",
        "filename = day+'COVID19MEXICO.csv'\n",
        "df = spark.read.csv(filename, header=True, inferSchema=True)"
      ],
      "metadata": {
        "id": "lPyYRebBPekU"
      },
      "execution_count": 12,
      "outputs": []
    },
    {
      "cell_type": "code",
      "execution_count": 14,
      "metadata": {
        "id": "3N4sQRm99ZGU",
        "colab": {
          "base_uri": "https://localhost:8080/"
        },
        "outputId": "26e14536-06e7-4bd8-c5b9-fbbda33b194b"
      },
      "outputs": [
        {
          "output_type": "execute_result",
          "data": {
            "text/plain": [
              "[Row(FECHA_ACTUALIZACION='2022-07-02', ID_REGISTRO='z3bf80', ORIGEN=2, SECTOR=12, ENTIDAD_UM=8, SEXO=2, ENTIDAD_NAC=8, ENTIDAD_RES=8, MUNICIPIO_RES=37, TIPO_PACIENTE=1, FECHA_INGRESO='2020-07-28', FECHA_SINTOMAS='2020-07-20', FECHA_DEF='9999-99-99', INTUBADO=97, NEUMONIA=2, EDAD=35, NACIONALIDAD=1, EMBARAZO=97, HABLA_LENGUA_INDIG=2, INDIGENA=2, DIABETES=2, EPOC=2, ASMA=2, INMUSUPR=2, HIPERTENSION=2, OTRA_COM=2, CARDIOVASCULAR=2, OBESIDAD=2, RENAL_CRONICA=2, TABAQUISMO=2, OTRO_CASO=2, TOMA_MUESTRA_LAB=1, RESULTADO_LAB=1, TOMA_MUESTRA_ANTIGENO=2, RESULTADO_ANTIGENO=97, CLASIFICACION_FINAL=3, MIGRANTE=99, PAIS_NACIONALIDAD='México', PAIS_ORIGEN='97', UCI=97),\n",
              " Row(FECHA_ACTUALIZACION='2022-07-02', ID_REGISTRO='zze974', ORIGEN=1, SECTOR=6, ENTIDAD_UM=24, SEXO=1, ENTIDAD_NAC=24, ENTIDAD_RES=24, MUNICIPIO_RES=35, TIPO_PACIENTE=1, FECHA_INGRESO='2021-02-28', FECHA_SINTOMAS='2021-02-20', FECHA_DEF='9999-99-99', INTUBADO=97, NEUMONIA=99, EDAD=34, NACIONALIDAD=1, EMBARAZO=2, HABLA_LENGUA_INDIG=2, INDIGENA=2, DIABETES=2, EPOC=2, ASMA=2, INMUSUPR=2, HIPERTENSION=2, OTRA_COM=2, CARDIOVASCULAR=2, OBESIDAD=2, RENAL_CRONICA=2, TABAQUISMO=2, OTRO_CASO=1, TOMA_MUESTRA_LAB=1, RESULTADO_LAB=2, TOMA_MUESTRA_ANTIGENO=2, RESULTADO_ANTIGENO=97, CLASIFICACION_FINAL=7, MIGRANTE=99, PAIS_NACIONALIDAD='México', PAIS_ORIGEN='97', UCI=97)]"
            ]
          },
          "metadata": {},
          "execution_count": 14
        }
      ],
      "source": [
        "df.head(2)"
      ]
    },
    {
      "cell_type": "code",
      "execution_count": 16,
      "metadata": {
        "colab": {
          "base_uri": "https://localhost:8080/",
          "height": 35
        },
        "id": "jGN2LXoI83oA",
        "outputId": "900f0978-2a54-4a93-dbd5-aadef6c27c58"
      },
      "outputs": [
        {
          "output_type": "execute_result",
          "data": {
            "text/plain": [
              "'/tmp/spark-8cb6e39e-5e19-4799-870e-6bfc9c06087d/userFiles-23ab1e78-1791-47a9-9ed3-688418d49d39/220702COVID19MEXICO.csv'"
            ],
            "application/vnd.google.colaboratory.intrinsic+json": {
              "type": "string"
            }
          },
          "metadata": {},
          "execution_count": 16
        }
      ],
      "source": [
        "# Temporal Folder where the file is located \n",
        "SparkFiles.get(filename)"
      ]
    },
    {
      "cell_type": "code",
      "execution_count": 17,
      "metadata": {
        "id": "QjWGsecv830x"
      },
      "outputs": [],
      "source": [
        "# Renaming columns from spanish to english\n",
        "df = df.selectExpr('FECHA_ACTUALIZACION AS data_file_updated', 'ID_REGISTRO AS id_patient',\n",
        "                     'ORIGEN AS resp_monitoring','SECTOR AS type_institution','ENTIDAD_UM AS state_medical_unit',\n",
        "                      'SEXO AS gender','ENTIDAD_NAC AS state_patient_birth','ENTIDAD_RES AS state_residence',\n",
        "                      'MUNICIPIO_RES AS city_patient_birth','TIPO_PACIENTE AS type_patient',\n",
        "                     'FECHA_INGRESO AS date_admitted','FECHA_SINTOMAS AS date_patient_symp',\n",
        "                     'FECHA_DEF AS date_patient_death','INTUBADO AS intubated','NEUMONIA AS pneumonia',\n",
        "                     'EDAD AS age','NACIONALIDAD AS resident',\n",
        "                     'EMBARAZO AS pregnant','HABLA_LENGUA_INDIG AS indigenous_lang',\n",
        "                     'INDIGENA AS indigenous','DIABETES AS diabetes',\n",
        "                     'EPOC AS copd','ASMA AS asthma','INMUSUPR AS immunosup',\n",
        "                     'HIPERTENSION AS hypertension','OTRA_COM AS another_complication',\n",
        "                     'CARDIOVASCULAR AS cardiovascular','OBESIDAD AS obesity',\n",
        "                     'RENAL_CRONICA AS renal_chronic','TABAQUISMO AS tobacco',\n",
        "                     'OTRO_CASO AS closed_contanct','TOMA_MUESTRA_LAB AS lab_sample',\n",
        "                     'RESULTADO_LAB AS lab_result','TOMA_MUESTRA_ANTIGENO AS antigen_sample',\n",
        "                     'RESULTADO_ANTIGENO AS antigen_result','CLASIFICACION_FINAL AS final_class',\n",
        "                     'MIGRANTE AS migrant','PAIS_NACIONALIDAD AS country_nationality',\n",
        "                      'PAIS_ORIGEN AS country_patient_birth','UCI AS icu')"
      ]
    },
    {
      "cell_type": "code",
      "execution_count": 18,
      "metadata": {
        "id": "r2GuUfuCGhyM"
      },
      "outputs": [],
      "source": [
        "# Configure connection with database AWS RDS\n",
        "mode = \"overwrite\"\n",
        "jdbc_url=\"jdbc:postgresql://prod-covid-patients.cqbgcjbaetrj.us-west-1.rds.amazonaws.com:5432/covid_db\"\n",
        "config = {\"user\":\"postgres\", \n",
        "          \"password\": password, \n",
        "          \"driver\":\"org.postgresql.Driver\"}"
      ]
    },
    {
      "cell_type": "code",
      "execution_count": null,
      "metadata": {
        "colab": {
          "background_save": true
        },
        "id": "eBZoTfEz835t"
      },
      "outputs": [],
      "source": [
        "# Overwriting df to table in RDS\n",
        "df.write.jdbc(url=jdbc_url, table='patient', mode=mode, properties=config) #5:55:39"
      ]
    },
    {
      "cell_type": "code",
      "execution_count": 29,
      "metadata": {
        "colab": {
          "base_uri": "https://localhost:8080/"
        },
        "id": "He5LsdjM839L",
        "outputId": "3c741565-3bdb-4084-cc71-e2a3786b9dce"
      },
      "outputs": [
        {
          "output_type": "stream",
          "name": "stdout",
          "text": [
            "+-----------------+----------+---------------+----------------+------------------+------+-------------------+---------------+------------------+------------+-------------+-----------------+------------------+---------+---------+---+--------+--------+---------------+----------+--------+----+------+---------+------------+--------------------+--------------+-------+-------------+-------+---------------+----------+----------+--------------+--------------+-----------+-------+-------------------+---------------------+---+\n",
            "|data_file_updated|id_patient|resp_monitoring|type_institution|state_medical_unit|gender|state_patient_birth|state_residence|city_patient_birth|type_patient|date_admitted|date_patient_symp|date_patient_death|intubated|pneumonia|age|resident|pregnant|indigenous_lang|indigenous|diabetes|copd|asthma|immunosup|hypertension|another_complication|cardiovascular|obesity|renal_chronic|tobacco|closed_contanct|lab_sample|lab_result|antigen_sample|antigen_result|final_class|migrant|country_nationality|country_patient_birth|icu|\n",
            "+-----------------+----------+---------------+----------------+------------------+------+-------------------+---------------+------------------+------------+-------------+-----------------+------------------+---------+---------+---+--------+--------+---------------+----------+--------+----+------+---------+------------+--------------------+--------------+-------+-------------+-------+---------------+----------+----------+--------------+--------------+-----------+-------+-------------------+---------------------+---+\n",
            "|       2022-07-01|    4a4682|              2|              12|                 9|     1|                  9|              9|                13|           1|   2022-02-04|       2022-01-26|        9999-99-99|       97|        2| 59|       1|       2|              2|         2|       2|   2|     2|        2|           2|                   2|             2|      2|            2|      1|              1|         2|        97|             1|             2|          7|     99|             México|                   97| 97|\n",
            "|       2022-07-01|    795658|              2|               9|                 9|     1|                 21|             21|                 4|           1|   2022-01-28|       2022-01-28|        9999-99-99|       97|        2| 42|       1|       2|              2|         2|       2|   2|     2|        2|           2|                   2|             2|      2|            2|      2|              1|         2|        97|             1|             2|          7|     99|             México|                   97| 97|\n",
            "|       2022-07-01|    c86ec4|              1|              12|                23|     1|                 30|             23|                 4|           1|   2022-02-05|       2022-02-01|        9999-99-99|       97|        2| 39|       1|       2|              2|         2|       1|   2|     2|        2|           2|                   2|             2|      1|            2|      2|              2|         2|        97|             1|             2|          7|     99|             México|                   97| 97|\n",
            "+-----------------+----------+---------------+----------------+------------------+------+-------------------+---------------+------------------+------------+-------------+-----------------+------------------+---------+---------+---+--------+--------+---------------+----------+--------+----+------+---------+------------+--------------------+--------------+-------+-------------+-------+---------------+----------+----------+--------------+--------------+-----------+-------+-------------------+---------------------+---+\n",
            "\n"
          ]
        }
      ],
      "source": [
        "# Testing\n",
        "_select_sql = \"(SELECT * FROM PATIENT P LIMIT 3) temp\"\n",
        "df_select = spark.read.jdbc(url=jdbc_url,table=_select_sql,properties=config)\n",
        "df_select.show(5)"
      ]
    },
    {
      "cell_type": "code",
      "execution_count": 28,
      "metadata": {
        "colab": {
          "base_uri": "https://localhost:8080/"
        },
        "id": "Z9iIB4kTjKNe",
        "outputId": "30156c24-80a2-4d58-fb77-28713776b0cf"
      },
      "outputs": [
        {
          "output_type": "stream",
          "name": "stdout",
          "text": [
            "*********************************************************************\n",
            "The scraping finished successfully with  16638854  rows loadded \n",
            "*********************************************************************\n"
          ]
        }
      ],
      "source": [
        "print(\"*********************************************************************\")\n",
        "print(\"The scraping finished successfully with \",df.count(),\" rows loadded \")\n",
        "print(\"*********************************************************************\")"
      ]
    }
  ],
  "metadata": {
    "colab": {
      "collapsed_sections": [],
      "name": "ETL_data_to_feed_db.ipynb",
      "provenance": [],
      "authorship_tag": "ABX9TyPEeozTZkJxh6Uq1XSjk+KM",
      "include_colab_link": true
    },
    "kernelspec": {
      "display_name": "Python 3",
      "name": "python3"
    },
    "language_info": {
      "name": "python"
    }
  },
  "nbformat": 4,
  "nbformat_minor": 0
}