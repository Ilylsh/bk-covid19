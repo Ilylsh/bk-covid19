{
 "cells": [
  {
   "cell_type": "code",
   "execution_count": 2,
   "id": "c99d8865",
   "metadata": {},
   "outputs": [],
   "source": [
    "# Import libraries\n",
    "\n",
    "import pandas as pd\n",
    "from collections import Counter\n",
    "\n",
    "import matplotlib.pyplot as plt\n",
    "import numpy as np\n",
    "\n",
    "from sklearn.model_selection import train_test_split\n",
    "from sklearn.preprocessing import StandardScaler\n",
    "from imblearn.over_sampling import SMOTE\n",
    "from sklearn.metrics import confusion_matrix\n",
    "\n",
    "from sklearn.metrics import balanced_accuracy_score\n",
    "from sklearn.metrics import accuracy_score\n",
    "from imblearn.metrics import classification_report_imbalanced\n",
    "from sklearn.metrics import classification_report\n",
    "from sklearn.metrics import precision_score\n",
    "from sklearn.metrics import recall_score"
   ]
  },
  {
   "cell_type": "code",
   "execution_count": 4,
   "id": "172f0c56",
   "metadata": {},
   "outputs": [],
   "source": [
    "file = 'clean_ml_data_0625.csv'\n",
    "clean_df = pd.read_csv(file)"
   ]
  },
  {
   "cell_type": "code",
   "execution_count": 5,
   "id": "66b15327",
   "metadata": {
    "scrolled": true
   },
   "outputs": [
    {
     "data": {
      "text/html": [
       "<div>\n",
       "<style scoped>\n",
       "    .dataframe tbody tr th:only-of-type {\n",
       "        vertical-align: middle;\n",
       "    }\n",
       "\n",
       "    .dataframe tbody tr th {\n",
       "        vertical-align: top;\n",
       "    }\n",
       "\n",
       "    .dataframe thead th {\n",
       "        text-align: right;\n",
       "    }\n",
       "</style>\n",
       "<table border=\"1\" class=\"dataframe\">\n",
       "  <thead>\n",
       "    <tr style=\"text-align: right;\">\n",
       "      <th></th>\n",
       "      <th>gender</th>\n",
       "      <th>pneumonia</th>\n",
       "      <th>pregnant</th>\n",
       "      <th>diabetes</th>\n",
       "      <th>copd</th>\n",
       "      <th>asthma</th>\n",
       "      <th>immunosup</th>\n",
       "      <th>hypertension</th>\n",
       "      <th>cardiovascular</th>\n",
       "      <th>obesity</th>\n",
       "      <th>renal_chronic</th>\n",
       "      <th>tobacco</th>\n",
       "      <th>closed_contact</th>\n",
       "      <th>another_complication</th>\n",
       "      <th>death</th>\n",
       "      <th>intubation</th>\n",
       "      <th>ICU</th>\n",
       "      <th>new_age</th>\n",
       "    </tr>\n",
       "  </thead>\n",
       "  <tbody>\n",
       "    <tr>\n",
       "      <th>0</th>\n",
       "      <td>0</td>\n",
       "      <td>0</td>\n",
       "      <td>0</td>\n",
       "      <td>0</td>\n",
       "      <td>0</td>\n",
       "      <td>0</td>\n",
       "      <td>0</td>\n",
       "      <td>0</td>\n",
       "      <td>0</td>\n",
       "      <td>0</td>\n",
       "      <td>0</td>\n",
       "      <td>0</td>\n",
       "      <td>0</td>\n",
       "      <td>0</td>\n",
       "      <td>0</td>\n",
       "      <td>0</td>\n",
       "      <td>0</td>\n",
       "      <td>3</td>\n",
       "    </tr>\n",
       "    <tr>\n",
       "      <th>1</th>\n",
       "      <td>0</td>\n",
       "      <td>0</td>\n",
       "      <td>0</td>\n",
       "      <td>0</td>\n",
       "      <td>0</td>\n",
       "      <td>0</td>\n",
       "      <td>0</td>\n",
       "      <td>0</td>\n",
       "      <td>0</td>\n",
       "      <td>0</td>\n",
       "      <td>0</td>\n",
       "      <td>0</td>\n",
       "      <td>0</td>\n",
       "      <td>0</td>\n",
       "      <td>0</td>\n",
       "      <td>0</td>\n",
       "      <td>0</td>\n",
       "      <td>2</td>\n",
       "    </tr>\n",
       "    <tr>\n",
       "      <th>2</th>\n",
       "      <td>1</td>\n",
       "      <td>0</td>\n",
       "      <td>0</td>\n",
       "      <td>0</td>\n",
       "      <td>0</td>\n",
       "      <td>0</td>\n",
       "      <td>0</td>\n",
       "      <td>1</td>\n",
       "      <td>0</td>\n",
       "      <td>0</td>\n",
       "      <td>0</td>\n",
       "      <td>0</td>\n",
       "      <td>1</td>\n",
       "      <td>0</td>\n",
       "      <td>0</td>\n",
       "      <td>0</td>\n",
       "      <td>0</td>\n",
       "      <td>4</td>\n",
       "    </tr>\n",
       "    <tr>\n",
       "      <th>3</th>\n",
       "      <td>0</td>\n",
       "      <td>0</td>\n",
       "      <td>0</td>\n",
       "      <td>0</td>\n",
       "      <td>0</td>\n",
       "      <td>0</td>\n",
       "      <td>0</td>\n",
       "      <td>0</td>\n",
       "      <td>0</td>\n",
       "      <td>0</td>\n",
       "      <td>0</td>\n",
       "      <td>0</td>\n",
       "      <td>1</td>\n",
       "      <td>0</td>\n",
       "      <td>0</td>\n",
       "      <td>0</td>\n",
       "      <td>0</td>\n",
       "      <td>3</td>\n",
       "    </tr>\n",
       "    <tr>\n",
       "      <th>4</th>\n",
       "      <td>0</td>\n",
       "      <td>0</td>\n",
       "      <td>0</td>\n",
       "      <td>0</td>\n",
       "      <td>0</td>\n",
       "      <td>0</td>\n",
       "      <td>0</td>\n",
       "      <td>0</td>\n",
       "      <td>0</td>\n",
       "      <td>1</td>\n",
       "      <td>0</td>\n",
       "      <td>0</td>\n",
       "      <td>0</td>\n",
       "      <td>0</td>\n",
       "      <td>0</td>\n",
       "      <td>0</td>\n",
       "      <td>0</td>\n",
       "      <td>3</td>\n",
       "    </tr>\n",
       "  </tbody>\n",
       "</table>\n",
       "</div>"
      ],
      "text/plain": [
       "   gender  pneumonia  pregnant  diabetes  copd  asthma  immunosup  \\\n",
       "0       0          0         0         0     0       0          0   \n",
       "1       0          0         0         0     0       0          0   \n",
       "2       1          0         0         0     0       0          0   \n",
       "3       0          0         0         0     0       0          0   \n",
       "4       0          0         0         0     0       0          0   \n",
       "\n",
       "   hypertension  cardiovascular  obesity  renal_chronic  tobacco  \\\n",
       "0             0               0        0              0        0   \n",
       "1             0               0        0              0        0   \n",
       "2             1               0        0              0        0   \n",
       "3             0               0        0              0        0   \n",
       "4             0               0        1              0        0   \n",
       "\n",
       "   closed_contact  another_complication  death  intubation  ICU  new_age  \n",
       "0               0                     0      0           0    0        3  \n",
       "1               0                     0      0           0    0        2  \n",
       "2               1                     0      0           0    0        4  \n",
       "3               1                     0      0           0    0        3  \n",
       "4               0                     0      0           0    0        3  "
      ]
     },
     "execution_count": 5,
     "metadata": {},
     "output_type": "execute_result"
    }
   ],
   "source": [
    "clean_df.head()"
   ]
  },
  {
   "cell_type": "code",
   "execution_count": 6,
   "id": "8fd1ff79",
   "metadata": {},
   "outputs": [
    {
     "data": {
      "text/plain": [
       "Counter({0: 1271359, 1: 146332})"
      ]
     },
     "execution_count": 6,
     "metadata": {},
     "output_type": "execute_result"
    }
   ],
   "source": [
    "Counter(clean_df.death)"
   ]
  },
  {
   "cell_type": "code",
   "execution_count": 7,
   "id": "33c272a6",
   "metadata": {},
   "outputs": [],
   "source": [
    "y= clean_df['death']\n",
    "X = clean_df.drop(columns = ['ICU','intubation','death'])\n",
    "keep_columns = [\"gender\",\"pneumonia\",\"diabetes\",\"hypertension\",\"obesity\",\"closed_contact\", \"new_age\"]\n",
    "X2 = clean_df[keep_columns]"
   ]
  },
  {
   "cell_type": "code",
   "execution_count": 8,
   "id": "f8421d0e",
   "metadata": {},
   "outputs": [],
   "source": [
    "X_train,X_test,y_train,y_test = train_test_split(X,y,random_state =42, stratify=y)"
   ]
  },
  {
   "cell_type": "code",
   "execution_count": 9,
   "id": "47163c19",
   "metadata": {},
   "outputs": [],
   "source": [
    "X2_train,X2_test,y_train,y_test = train_test_split(X2,y,random_state =42, stratify=y)"
   ]
  },
  {
   "cell_type": "code",
   "execution_count": 13,
   "id": "16601260",
   "metadata": {},
   "outputs": [
    {
     "name": "stdout",
     "output_type": "stream",
     "text": [
      "Accuracy 0.8512745605873491 [0.85144883 0.85116198 0.85172628 0.84975053 0.85228518]\n"
     ]
    }
   ],
   "source": [
    "from sklearn.model_selection import StratifiedKFold, cross_val_score\n",
    "from imblearn.ensemble import BalancedRandomForestClassifier\n",
    "brf = BalancedRandomForestClassifier(n_estimators=100, random_state=42)\n",
    "results, names = list(), list()\n",
    "sk_folds = StratifiedKFold(n_splits = 5)\n",
    "\n",
    "scores = cross_val_score(brf,  X_train, y_train, cv = sk_folds)\n",
    "print('Accuracy', np.mean(scores), scores)\n",
    "\n",
    "# balanced_scores = cross_val_score(brf, X_train, y_train, cv = sk_folds, scoring=sc)\n",
    "# print('Balanced Accuracy', np.mean(balanced_scores), balanced_scores)\n",
    "\n",
    "# recall = cross_val_score(brf, X_train, y_train, cv = sk_folds, scoring='recall')\n",
    "# print('Recall', np.mean(recall), recall)\n",
    "\n",
    "# precision = cross_val_score(brf, X_train, y_train, cv = sk_folds, scoring='precision')\n",
    "# print('Precision', np.mean(precision), precision)\n",
    "\n",
    "# f1 = cross_val_score(brf, X_train, y_train, cv = sk_folds, scoring='f1')\n",
    "# print('F1', np.mean(f1), f1)\n",
    "names.append('All Features')\n",
    "results.append(scores)"
   ]
  },
  {
   "cell_type": "code",
   "execution_count": 14,
   "id": "b3b5896a",
   "metadata": {},
   "outputs": [
    {
     "name": "stdout",
     "output_type": "stream",
     "text": [
      "Accuracy 0.8473414008449393 [0.84818061 0.84884366 0.84840633 0.84153527 0.84974113]\n"
     ]
    }
   ],
   "source": [
    "scores = cross_val_score(brf,  X2_train, y_train, cv = sk_folds)\n",
    "print('Accuracy', np.mean(scores), scores)\n",
    "\n",
    "# balanced_scores = cross_val_score(brf, X2_train, y_train, cv = sk_folds, scoring=sc)\n",
    "# print('Balanced Accuracy', np.mean(balanced_scores), balanced_scores)\n",
    "\n",
    "# recall = cross_val_score(brf, X2_train, y_train, cv = sk_folds, scoring='recall')\n",
    "# print('Recall', np.mean(recall), recall)\n",
    "\n",
    "# precision = cross_val_score(brf, X2_train, y_train, cv = sk_folds, scoring='precision')\n",
    "# print('Precision', np.mean(precision), precision)\n",
    "\n",
    "# f1 = cross_val_score(brf, X2_train, y_train, cv = sk_folds, scoring='f1')\n",
    "# print('F1', np.mean(f1), f1)\n",
    "\n",
    "names.append('7 Features')\n",
    "results.append(scores)"
   ]
  },
  {
   "cell_type": "code",
   "execution_count": 15,
   "id": "1fd7c634",
   "metadata": {},
   "outputs": [
    {
     "data": {
      "image/png": "[encoded data removed]",
      "text/plain": [
       "<Figure size 432x288 with 1 Axes>"
      ]
     },
     "metadata": {
      "needs_background": "light"
     },
     "output_type": "display_data"
    }
   ],
   "source": [
    "# plot model performance for comparison\n",
    "from matplotlib import pyplot\n",
    "pyplot.boxplot(results, labels=names, showmeans=True)\n",
    "pyplot.show()"
   ]
  },
  {
   "cell_type": "code",
   "execution_count": null,
   "id": "9f97a5ec",
   "metadata": {},
   "outputs": [],
   "source": [
    "# # Extract feature importances from the fitted gradient boosting model\n",
    "# feature_importances = brf.feature_importances_\n",
    "\n",
    "# # Get the indices of the largest to smallest feature importances\n",
    "# sorted_index = np.argsort(feature_importances)\n",
    "# x = np.arange(sorted_index.shape[0]) + .5\n",
    "# # Create tick labels \n",
    "# labels = np.array(X.columns)[sorted_index]\n",
    "# plt.figure(figsize=(8, 6))\n",
    "# plt.barh(x, feature_importances[sorted_index], tick_label=labels)\n",
    "\n",
    "# # Set the tick lables to be the feature names, according to the sorted feature_idx\n",
    "# plt.yticks()\n",
    "# plt.show()"
   ]
  }
 ],
 "metadata": {
  "kernelspec": {
   "display_name": "mlenv",
   "language": "python",
   "name": "mlenv"
  },
  "language_info": {
   "codemirror_mode": {
    "name": "ipython",
    "version": 3
   },
   "file_extension": ".py",
   "mimetype": "text/x-python",
   "name": "python",
   "nbconvert_exporter": "python",
   "pygments_lexer": "ipython3",
   "version": "3.7.13"
  }
 },
 "nbformat": 4,
 "nbformat_minor": 5
}
